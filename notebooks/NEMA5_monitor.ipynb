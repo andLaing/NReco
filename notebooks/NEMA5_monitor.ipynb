{
  "cells": [
    {
      "cell_type": "code",
      "source": [
        "using Pkg\n",
        "Pkg.activate(normpath(joinpath(@__DIR__, \"..\")))"
      ],
      "outputs": [
        {
          "output_type": "stream",
          "name": "stderr",
          "text": [
            "\u001b[32m\u001b[1m  Activating\u001b[22m\u001b[39m environment at `~/FiB/reco_code/NReco/Project.toml`\n"
          ]
        }
      ],
      "execution_count": 1,
      "metadata": {
        "collapsed": true,
        "jupyter": {
          "source_hidden": false,
          "outputs_hidden": false
        },
        "nteract": {
          "transient": {
            "deleting": false
          }
        },
        "execution": {
          "iopub.status.busy": "2021-10-23T14:44:01.820Z",
          "iopub.execute_input": "2021-10-23T14:44:03.127Z",
          "iopub.status.idle": "2021-10-23T14:44:04.190Z"
        }
      }
    },
    {
      "cell_type": "code",
      "source": [
        "using ATools\n",
        "using NReco\n",
        "using Configurations\n",
        "using DataFrames\n",
        "using Glob\n",
        "using HDF5\n",
        "using Plots\n",
        "using Statistics\n",
        "using StatsBase\n",
        "using Unitful\n",
        "\n",
        "import Unitful: ps"
      ],
      "outputs": [],
      "execution_count": 2,
      "metadata": {
        "collapsed": true,
        "jupyter": {
          "source_hidden": false,
          "outputs_hidden": false
        },
        "nteract": {
          "transient": {
            "deleting": false
          }
        },
        "execution": {
          "iopub.status.busy": "2021-10-23T14:44:18.812Z",
          "iopub.execute_input": "2021-10-23T14:44:18.836Z",
          "iopub.status.idle": "2021-10-23T14:46:03.550Z"
        }
      }
    },
    {
      "cell_type": "code",
      "source": [
        "## Change the configuration .toml to change the input and cuts.\n",
        "config_file = \"../config/cal_n5_20mm.toml\"\n",
        "conf        = from_toml(NReco.CalConfig, config_file)"
      ],
      "outputs": [
        {
          "output_type": "execute_result",
          "execution_count": 3,
          "data": {
            "text/plain": "NReco.CalConfig(\"../../h5data/\", \"n5-window-dz1m-LXe20mm-1-n5/\", \"plot_dir\", 1900.0f0, 2200.0f0, false, NReco.CalFunction(\"../config/radius_calibration.h5\", \"n3-20mm\", \"cstd\", 1.69f0))"
          },
          "metadata": {}
        }
      ],
      "execution_count": 3,
      "metadata": {
        "collapsed": true,
        "jupyter": {
          "source_hidden": false,
          "outputs_hidden": false
        },
        "nteract": {
          "transient": {
            "deleting": false
          }
        },
        "execution": {
          "iopub.status.busy": "2021-10-23T14:46:47.864Z",
          "iopub.execute_input": "2021-10-23T14:47:06.432Z",
          "iopub.status.idle": "2021-10-23T14:47:11.032Z"
        }
      }
    },
    {
      "cell_type": "code",
      "source": [
        "## Basic setup: Variables shouold be adjusted for each relevant run\n",
        "# normalisation: number of decays simulated, should be saved somewhere!\n",
        "# rmin         : Ring minimum r\n",
        "# rmax         : Ring maximum r\n",
        "# in_dir       : directory where the output folders of makenema.jl are.\n",
        "# config       : subdirectory for input/output\n",
        "# plot_dir     : base directory for plots\n",
        "in_dir    = conf.input_dir\n",
        "config    = conf.conf_dir\n",
        "plot_dir  = conf.plot_dir\n",
        "if !isdir(plot_dir)\n",
        "  mkdir(plot_dir)\n",
        "end\n",
        "in_path   = joinpath(in_dir, config)\n",
        "plot_path = joinpath(plot_dir, config)\n",
        "if !isdir(plot_path)\n",
        "  mkdir(plot_path)\n",
        "end"
      ],
      "outputs": [],
      "execution_count": 4,
      "metadata": {
        "collapsed": true,
        "jupyter": {
          "source_hidden": false,
          "outputs_hidden": false
        },
        "nteract": {
          "transient": {
            "deleting": false
          }
        },
        "execution": {
          "iopub.status.busy": "2021-10-23T14:47:20.804Z",
          "iopub.execute_input": "2021-10-23T14:47:20.822Z",
          "iopub.status.idle": "2021-10-23T14:47:20.849Z"
        }
      }
    },
    {
      "cell_type": "code",
      "source": [
        "in_path"
      ],
      "outputs": [
        {
          "output_type": "execute_result",
          "execution_count": 5,
          "data": {
            "text/plain": "\"../../h5data/n5-window-dz1m-LXe20mm-1-n5/\""
          },
          "metadata": {}
        }
      ],
      "execution_count": 5,
      "metadata": {
        "collapsed": true,
        "jupyter": {
          "source_hidden": false,
          "outputs_hidden": false
        },
        "nteract": {
          "transient": {
            "deleting": false
          }
        },
        "execution": {
          "iopub.status.busy": "2021-10-23T14:47:32.166Z",
          "iopub.execute_input": "2021-10-23T14:47:32.189Z",
          "iopub.status.idle": "2021-10-23T14:47:33.374Z"
        }
      }
    },
    {
      "cell_type": "code",
      "source": [
        "norm, rmin, rmax, ndf = read_evtpar(glob(\"evt*.h5\", in_path))\n",
        "println(norm, \" simulated events, \", nrow(ndf), \" with two interactions: \", 100 * nrow(ndf) / norm, \"%\")"
      ],
      "outputs": [
        {
          "output_type": "stream",
          "name": "stdout",
          "text": [
            "1500000 simulated events, 242163 with two interactions: 16.1442%\n"
          ]
        }
      ],
      "execution_count": 6,
      "metadata": {
        "collapsed": true,
        "jupyter": {
          "source_hidden": false,
          "outputs_hidden": false
        },
        "nteract": {
          "transient": {
            "deleting": false
          }
        },
        "execution": {
          "iopub.status.busy": "2021-10-23T14:47:43.933Z",
          "iopub.execute_input": "2021-10-23T14:47:43.949Z",
          "iopub.status.idle": "2021-10-23T14:47:56.238Z"
        }
      }
    },
    {
      "cell_type": "code",
      "source": [
        "## Should go in src/?, here for now\n",
        "function filter_energies(df::DataFrame, qmin::Float32, qmax::Float32)\n",
        "    interval = ATools.range_bound(qmin, qmax, ATools.OpenBound)\n",
        "    ndfq     = filter(x -> interval.(x.q1) .& interval.(x.q2), df)\n",
        "end"
      ],
      "outputs": [
        {
          "output_type": "execute_result",
          "execution_count": 7,
          "data": {
            "text/plain": "filter_energies (generic function with 1 method)"
          },
          "metadata": {}
        }
      ],
      "execution_count": 7,
      "metadata": {
        "collapsed": true,
        "jupyter": {
          "source_hidden": false,
          "outputs_hidden": false
        },
        "nteract": {
          "transient": {
            "deleting": false
          }
        },
        "execution": {
          "iopub.status.busy": "2021-10-21T11:47:00.071Z",
          "iopub.execute_input": "2021-10-21T11:47:00.091Z",
          "iopub.status.idle": "2021-10-21T11:47:02.902Z"
        }
      }
    },
    {
      "cell_type": "code",
      "source": [
        "function calibration_function(calibFunc::NReco.CalFunction, rmin::Real, rmax::Real)\n",
        "    line_pars = h5open(calibFunc.cal_file) do h5cal\n",
        "        bias   = read_attribute(h5cal[calibFunc.cal_grp], calibFunc.cal_std * \"-bias\" )\n",
        "        lconst = read_attribute(h5cal[calibFunc.cal_grp], calibFunc.cal_std * \"-const\")\n",
        "        llin   = read_attribute(h5cal[calibFunc.cal_grp], calibFunc.cal_std * \"-lin\"  )\n",
        "        return bias, lconst, llin\n",
        "    end\n",
        "    \n",
        "    cal_func = ATools.predict_interaction_radius(ATools.gpol1(line_pars[2:end]),\n",
        "        rmin, rmax, line_pars[1])\n",
        "    return cal_func\n",
        "end"
      ],
      "outputs": [
        {
          "output_type": "execute_result",
          "execution_count": 8,
          "data": {
            "text/plain": "calibration_function (generic function with 1 method)"
          },
          "metadata": {}
        }
      ],
      "execution_count": 8,
      "metadata": {
        "collapsed": true,
        "jupyter": {
          "source_hidden": false,
          "outputs_hidden": false
        },
        "nteract": {
          "transient": {
            "deleting": false
          }
        },
        "execution": {
          "iopub.status.busy": "2021-10-21T11:47:02.928Z",
          "iopub.execute_input": "2021-10-21T11:47:02.944Z",
          "iopub.status.idle": "2021-10-21T11:47:03.066Z"
        }
      }
    },
    {
      "cell_type": "code",
      "source": [
        "cal_func = calibration_function(conf.cal_func, rmin, rmax)\n",
        "ndfq     = filter_energies(ndf, conf.qmin, conf.qmax)\n",
        "if conf.cal_func.cal_std == \"cstd\"\n",
        "  # We want to use the combined std which isn't saved in the H5\n",
        "  comb_std(z, phi) = sqrt(z^2 + (rmax * phi)^2)\n",
        "  transform!(ndfq, [:zstd1, :phistd1] => ByRow(comb_std) => :cstd1,\n",
        "            [:zstd2, :phistd2] => ByRow(comb_std) => :cstd2)\n",
        "end\n",
        "sym1 = Symbol(conf.cal_func.cal_std * \"1\")\n",
        "sym2 = Symbol(conf.cal_func.cal_std * \"2\")\n",
        "transform!(ndfq, sym1 => cal_func => :r1x, sym2 => cal_func => :r2x)"
      ],
      "outputs": [
        {
          "output_type": "execute_result",
          "execution_count": 9,
          "data": {
            "text/plain": "\u001b[1m13711×59 DataFrame\u001b[0m\n\u001b[1m   Row \u001b[0m│\u001b[1m event_id \u001b[0m\u001b[1m phot1 \u001b[0m\u001b[1m phot2 \u001b[0m\u001b[1m nsipm1 \u001b[0m\u001b[1m nsipm2 \u001b[0m\u001b[1m q1      \u001b[0m\u001b[1m q2      \u001b[0m\u001b[1m r1      \u001b[0m\u001b[1m r2\u001b[0m ⋯\n\u001b[1m       \u001b[0m│\u001b[90m Int64    \u001b[0m\u001b[90m Bool  \u001b[0m\u001b[90m Bool  \u001b[0m\u001b[90m Int64  \u001b[0m\u001b[90m Int64  \u001b[0m\u001b[90m Float32 \u001b[0m\u001b[90m Float32 \u001b[0m\u001b[90m Float32 \u001b[0m\u001b[90m Fl\u001b[0m ⋯\n───────┼────────────────────────────────────────────────────────────────────────\n     1 │      226  false  false      70      70   2141.0   2035.0  362.712  36 ⋯\n     2 │      313  false   true     150     150   2086.0   1983.0  353.526  35\n     3 │      517   true  false     126     126   2075.0   1922.0  353.544  36\n     4 │      604   true  false     110     110   2063.0   2048.0  356.441  36\n     5 │      681   true   true     107     107   2041.0   1968.0  357.178  36 ⋯\n     6 │      700  false   true      77      77   2011.0   2130.0  355.537  36\n     7 │      942  false  false      56      56   1932.0   2121.0  366.797  36\n     8 │      993  false  false      20      20   1921.0   1949.0  368.998  35\n     9 │     1074   true  false     142     142   1984.0   2069.0  353.479  36 ⋯\n    10 │     1090  false   true     104     104   1989.0   2008.0  357.864  35\n    11 │     1167   true  false      24      24   2003.0   2070.0  366.916  36\n   ⋮   │    ⋮        ⋮      ⋮      ⋮       ⋮        ⋮        ⋮        ⋮        ⋱\n 13702 │   498865  false  false     114     114   2116.0   1965.0  359.043  35\n 13703 │   498878  false  false     100     100   2073.0   2044.0  354.77   36 ⋯\n 13704 │   499002  false  false      79      79   2024.0   2008.0  361.378  35\n 13705 │   499024   true  false      62      62   1927.0   2083.0  362.126  36\n 13706 │   499028  false   true     116     116   2052.0   2045.0  356.472  36\n 13707 │   499068  false  false      77      77   2161.0   2056.0  357.553  36 ⋯\n 13708 │   499425   true  false      94      94   1954.0   2021.0  361.006  35\n 13709 │   499487   true  false      48      48   2100.0   2048.0  364.07   36\n 13710 │   499573  false   true      58      58   2199.0   2028.0  355.772  35\n 13711 │   499620  false  false      58      58   2008.0   2066.0  366.829  36 ⋯\n\u001b[36m                                               51 columns and 13690 rows omitted\u001b[0m",
            "text/html": "<div class=\"data-frame\"><p>13,711 rows × 59 columns (omitted printing of 49 columns)</p><table class=\"data-frame\"><thead><tr><th></th><th>event_id</th><th>phot1</th><th>phot2</th><th>nsipm1</th><th>nsipm2</th><th>q1</th><th>q2</th><th>r1</th><th>r2</th><th>r1x</th></tr><tr><th></th><th title=\"Int64\">Int64</th><th title=\"Bool\">Bool</th><th title=\"Bool\">Bool</th><th title=\"Int64\">Int64</th><th title=\"Int64\">Int64</th><th title=\"Float32\">Float32</th><th title=\"Float32\">Float32</th><th title=\"Float32\">Float32</th><th title=\"Float32\">Float32</th><th title=\"Float64\">Float64</th></tr></thead><tbody><tr><th>1</th><td>226</td><td>0</td><td>0</td><td>70</td><td>70</td><td>2141.0</td><td>2035.0</td><td>362.712</td><td>368.836</td><td>360.69</td></tr><tr><th>2</th><td>313</td><td>0</td><td>1</td><td>150</td><td>150</td><td>2086.0</td><td>1983.0</td><td>353.526</td><td>354.858</td><td>353.093</td></tr><tr><th>3</th><td>517</td><td>1</td><td>0</td><td>126</td><td>126</td><td>2075.0</td><td>1922.0</td><td>353.544</td><td>363.568</td><td>354.608</td></tr><tr><th>4</th><td>604</td><td>1</td><td>0</td><td>110</td><td>110</td><td>2063.0</td><td>2048.0</td><td>356.441</td><td>365.407</td><td>356.162</td></tr><tr><th>5</th><td>681</td><td>1</td><td>1</td><td>107</td><td>107</td><td>2041.0</td><td>1968.0</td><td>357.178</td><td>368.617</td><td>357.363</td></tr><tr><th>6</th><td>700</td><td>0</td><td>1</td><td>77</td><td>77</td><td>2011.0</td><td>2130.0</td><td>355.537</td><td>362.885</td><td>360.315</td></tr><tr><th>7</th><td>942</td><td>0</td><td>0</td><td>56</td><td>56</td><td>1932.0</td><td>2121.0</td><td>366.797</td><td>368.144</td><td>363.607</td></tr><tr><th>8</th><td>993</td><td>0</td><td>0</td><td>20</td><td>20</td><td>1921.0</td><td>1949.0</td><td>368.998</td><td>355.517</td><td>368.032</td></tr><tr><th>9</th><td>1074</td><td>1</td><td>0</td><td>142</td><td>142</td><td>1984.0</td><td>2069.0</td><td>353.479</td><td>363.173</td><td>353.429</td></tr><tr><th>10</th><td>1090</td><td>0</td><td>1</td><td>104</td><td>104</td><td>1989.0</td><td>2008.0</td><td>357.864</td><td>355.692</td><td>357.384</td></tr><tr><th>11</th><td>1167</td><td>1</td><td>0</td><td>24</td><td>24</td><td>2003.0</td><td>2070.0</td><td>366.916</td><td>367.729</td><td>367.702</td></tr><tr><th>12</th><td>1238</td><td>0</td><td>0</td><td>110</td><td>110</td><td>2122.0</td><td>1972.0</td><td>356.296</td><td>369.231</td><td>356.73</td></tr><tr><th>13</th><td>1350</td><td>0</td><td>0</td><td>88</td><td>88</td><td>1953.0</td><td>1955.0</td><td>358.116</td><td>361.658</td><td>359.881</td></tr><tr><th>14</th><td>1478</td><td>0</td><td>0</td><td>43</td><td>43</td><td>1994.0</td><td>2020.0</td><td>367.326</td><td>359.123</td><td>365.556</td></tr><tr><th>15</th><td>1536</td><td>0</td><td>0</td><td>112</td><td>112</td><td>2018.0</td><td>2092.0</td><td>356.193</td><td>354.251</td><td>356.903</td></tr><tr><th>16</th><td>1588</td><td>1</td><td>1</td><td>51</td><td>51</td><td>2015.0</td><td>1973.0</td><td>363.561</td><td>363.946</td><td>363.824</td></tr><tr><th>17</th><td>2021</td><td>0</td><td>1</td><td>51</td><td>51</td><td>2091.0</td><td>2085.0</td><td>364.313</td><td>354.074</td><td>364.15</td></tr><tr><th>18</th><td>2111</td><td>0</td><td>1</td><td>42</td><td>42</td><td>2096.0</td><td>2081.0</td><td>364.354</td><td>364.504</td><td>364.478</td></tr><tr><th>19</th><td>2169</td><td>0</td><td>1</td><td>26</td><td>26</td><td>2089.0</td><td>2101.0</td><td>366.898</td><td>362.76</td><td>367.356</td></tr><tr><th>20</th><td>2209</td><td>1</td><td>1</td><td>137</td><td>137</td><td>2044.0</td><td>2077.0</td><td>353.294</td><td>360.034</td><td>353.772</td></tr><tr><th>21</th><td>2280</td><td>0</td><td>0</td><td>98</td><td>98</td><td>2082.0</td><td>2067.0</td><td>358.941</td><td>363.496</td><td>358.48</td></tr><tr><th>22</th><td>2286</td><td>1</td><td>0</td><td>70</td><td>70</td><td>2037.0</td><td>2104.0</td><td>359.713</td><td>362.483</td><td>361.788</td></tr><tr><th>23</th><td>2290</td><td>1</td><td>0</td><td>19</td><td>19</td><td>2048.0</td><td>2076.0</td><td>369.804</td><td>353.43</td><td>369.824</td></tr><tr><th>24</th><td>2504</td><td>1</td><td>1</td><td>121</td><td>121</td><td>2082.0</td><td>2019.0</td><td>355.14</td><td>365.754</td><td>355.327</td></tr><tr><th>25</th><td>2742</td><td>1</td><td>0</td><td>104</td><td>104</td><td>2031.0</td><td>1921.0</td><td>357.733</td><td>354.675</td><td>357.478</td></tr><tr><th>26</th><td>2808</td><td>0</td><td>0</td><td>60</td><td>60</td><td>1971.0</td><td>2072.0</td><td>361.721</td><td>361.196</td><td>362.109</td></tr><tr><th>27</th><td>2981</td><td>1</td><td>0</td><td>128</td><td>128</td><td>2135.0</td><td>2103.0</td><td>356.358</td><td>360.842</td><td>355.488</td></tr><tr><th>28</th><td>3034</td><td>1</td><td>0</td><td>138</td><td>138</td><td>2140.0</td><td>1941.0</td><td>353.668</td><td>358.812</td><td>353.743</td></tr><tr><th>29</th><td>3062</td><td>1</td><td>0</td><td>89</td><td>89</td><td>2074.0</td><td>2003.0</td><td>358.859</td><td>367.871</td><td>359.014</td></tr><tr><th>30</th><td>3111</td><td>1</td><td>0</td><td>34</td><td>34</td><td>1978.0</td><td>1975.0</td><td>368.917</td><td>361.186</td><td>367.107</td></tr><tr><th>&vellip;</th><td>&vellip;</td><td>&vellip;</td><td>&vellip;</td><td>&vellip;</td><td>&vellip;</td><td>&vellip;</td><td>&vellip;</td><td>&vellip;</td><td>&vellip;</td><td>&vellip;</td></tr></tbody></table></div>",
            "text/latex": "\\begin{tabular}{r|ccccccccccc}\n\t& event\\_id & phot1 & phot2 & nsipm1 & nsipm2 & q1 & q2 & r1 & r2 & r1x & \\\\\n\t\\hline\n\t& Int64 & Bool & Bool & Int64 & Int64 & Float32 & Float32 & Float32 & Float32 & Float64 & \\\\\n\t\\hline\n\t1 & 226 & 0 & 0 & 70 & 70 & 2141.0 & 2035.0 & 362.712 & 368.836 & 360.69 & $\\dots$ \\\\\n\t2 & 313 & 0 & 1 & 150 & 150 & 2086.0 & 1983.0 & 353.526 & 354.858 & 353.093 & $\\dots$ \\\\\n\t3 & 517 & 1 & 0 & 126 & 126 & 2075.0 & 1922.0 & 353.544 & 363.568 & 354.608 & $\\dots$ \\\\\n\t4 & 604 & 1 & 0 & 110 & 110 & 2063.0 & 2048.0 & 356.441 & 365.407 & 356.162 & $\\dots$ \\\\\n\t5 & 681 & 1 & 1 & 107 & 107 & 2041.0 & 1968.0 & 357.178 & 368.617 & 357.363 & $\\dots$ \\\\\n\t6 & 700 & 0 & 1 & 77 & 77 & 2011.0 & 2130.0 & 355.537 & 362.885 & 360.315 & $\\dots$ \\\\\n\t7 & 942 & 0 & 0 & 56 & 56 & 1932.0 & 2121.0 & 366.797 & 368.144 & 363.607 & $\\dots$ \\\\\n\t8 & 993 & 0 & 0 & 20 & 20 & 1921.0 & 1949.0 & 368.998 & 355.517 & 368.032 & $\\dots$ \\\\\n\t9 & 1074 & 1 & 0 & 142 & 142 & 1984.0 & 2069.0 & 353.479 & 363.173 & 353.429 & $\\dots$ \\\\\n\t10 & 1090 & 0 & 1 & 104 & 104 & 1989.0 & 2008.0 & 357.864 & 355.692 & 357.384 & $\\dots$ \\\\\n\t11 & 1167 & 1 & 0 & 24 & 24 & 2003.0 & 2070.0 & 366.916 & 367.729 & 367.702 & $\\dots$ \\\\\n\t12 & 1238 & 0 & 0 & 110 & 110 & 2122.0 & 1972.0 & 356.296 & 369.231 & 356.73 & $\\dots$ \\\\\n\t13 & 1350 & 0 & 0 & 88 & 88 & 1953.0 & 1955.0 & 358.116 & 361.658 & 359.881 & $\\dots$ \\\\\n\t14 & 1478 & 0 & 0 & 43 & 43 & 1994.0 & 2020.0 & 367.326 & 359.123 & 365.556 & $\\dots$ \\\\\n\t15 & 1536 & 0 & 0 & 112 & 112 & 2018.0 & 2092.0 & 356.193 & 354.251 & 356.903 & $\\dots$ \\\\\n\t16 & 1588 & 1 & 1 & 51 & 51 & 2015.0 & 1973.0 & 363.561 & 363.946 & 363.824 & $\\dots$ \\\\\n\t17 & 2021 & 0 & 1 & 51 & 51 & 2091.0 & 2085.0 & 364.313 & 354.074 & 364.15 & $\\dots$ \\\\\n\t18 & 2111 & 0 & 1 & 42 & 42 & 2096.0 & 2081.0 & 364.354 & 364.504 & 364.478 & $\\dots$ \\\\\n\t19 & 2169 & 0 & 1 & 26 & 26 & 2089.0 & 2101.0 & 366.898 & 362.76 & 367.356 & $\\dots$ \\\\\n\t20 & 2209 & 1 & 1 & 137 & 137 & 2044.0 & 2077.0 & 353.294 & 360.034 & 353.772 & $\\dots$ \\\\\n\t21 & 2280 & 0 & 0 & 98 & 98 & 2082.0 & 2067.0 & 358.941 & 363.496 & 358.48 & $\\dots$ \\\\\n\t22 & 2286 & 1 & 0 & 70 & 70 & 2037.0 & 2104.0 & 359.713 & 362.483 & 361.788 & $\\dots$ \\\\\n\t23 & 2290 & 1 & 0 & 19 & 19 & 2048.0 & 2076.0 & 369.804 & 353.43 & 369.824 & $\\dots$ \\\\\n\t24 & 2504 & 1 & 1 & 121 & 121 & 2082.0 & 2019.0 & 355.14 & 365.754 & 355.327 & $\\dots$ \\\\\n\t25 & 2742 & 1 & 0 & 104 & 104 & 2031.0 & 1921.0 & 357.733 & 354.675 & 357.478 & $\\dots$ \\\\\n\t26 & 2808 & 0 & 0 & 60 & 60 & 1971.0 & 2072.0 & 361.721 & 361.196 & 362.109 & $\\dots$ \\\\\n\t27 & 2981 & 1 & 0 & 128 & 128 & 2135.0 & 2103.0 & 356.358 & 360.842 & 355.488 & $\\dots$ \\\\\n\t28 & 3034 & 1 & 0 & 138 & 138 & 2140.0 & 1941.0 & 353.668 & 358.812 & 353.743 & $\\dots$ \\\\\n\t29 & 3062 & 1 & 0 & 89 & 89 & 2074.0 & 2003.0 & 358.859 & 367.871 & 359.014 & $\\dots$ \\\\\n\t30 & 3111 & 1 & 0 & 34 & 34 & 1978.0 & 1975.0 & 368.917 & 361.186 & 367.107 & $\\dots$ \\\\\n\t$\\dots$ & $\\dots$ & $\\dots$ & $\\dots$ & $\\dots$ & $\\dots$ & $\\dots$ & $\\dots$ & $\\dots$ & $\\dots$ & $\\dots$ &  \\\\\n\\end{tabular}\n"
          },
          "metadata": {}
        }
      ],
      "execution_count": 9,
      "metadata": {
        "collapsed": true,
        "jupyter": {
          "source_hidden": false,
          "outputs_hidden": false
        },
        "nteract": {
          "transient": {
            "deleting": false
          }
        },
        "execution": {
          "iopub.status.busy": "2021-10-21T11:47:03.101Z",
          "iopub.execute_input": "2021-10-21T11:47:03.117Z",
          "iopub.status.idle": "2021-10-21T11:47:21.145Z"
        }
      }
    },
    {
      "cell_type": "markdown",
      "source": [
        "# NEMA5"
      ],
      "metadata": {}
    },
    {
      "cell_type": "code",
      "source": [
        "println(names(ndfq))"
      ],
      "outputs": [
        {
          "output_type": "stream",
          "name": "stdout",
          "text": [
            "[\"event_id\", \"phot1\", \"phot2\", \"nsipm1\", \"nsipm2\", \"q1\", \"q2\", \"r1\", \"r2\", \"r1x\", \"r2x\", \"phistd1\", \"phistd2\", \"widphi1\", \"widphi2\", \"zstd1\", \"zstd2\", \"widz1\", \"widz2\", \"corrzphi1\", \"corrzphi2\", \"xt1\", \"xt2\", \"yt1\", \"yt2\", \"zt1\", \"zt2\", \"t1\", \"t2\", \"x1\", \"x2\", \"y1\", \"y2\", \"z1\", \"z2\", \"xr1\", \"xr2\", \"yr1\", \"yr2\", \"zr1\", \"zr2\", \"tr1\", \"tr2\", \"xb1\", \"xb2\", \"yb1\", \"yb2\", \"zb1\", \"zb2\", \"ta1\", \"ta2\", \"xs\", \"ux\", \"ys\", \"uy\", \"zs\", \"uz\", \"cstd1\", \"cstd2\"]\n"
          ]
        }
      ],
      "execution_count": 10,
      "metadata": {
        "collapsed": true,
        "jupyter": {
          "source_hidden": false,
          "outputs_hidden": false
        },
        "nteract": {
          "transient": {
            "deleting": false
          }
        },
        "execution": {
          "iopub.status.busy": "2021-10-21T11:47:21.183Z",
          "iopub.execute_input": "2021-10-21T11:47:21.203Z",
          "iopub.status.idle": "2021-10-21T11:47:21.505Z"
        }
      }
    },
    {
      "cell_type": "code",
      "source": [
        "h,p = hist1d(ndfq.zs, \"zs (mm)\", 25, -400.0f0, 400.0f0, norm=false)\n",
        "plot(p)"
      ],
      "outputs": [
        {
          "output_type": "execute_result",
          "execution_count": 11,
          "data": {
            "image/svg+xml": "<?xml version=\"1.0\" encoding=\"utf-8\"?>\n<svg xmlns=\"http://www.w3.org/2000/svg\" xmlns:xlink=\"http://www.w3.org/1999/xlink\" width=\"600\" height=\"400\" viewBox=\"0 0 2400 1600\">\n<defs>\n  <clipPath id=\"clip320\">\n    <rect x=\"0\" y=\"0\" width=\"2400\" height=\"1600\"/>\n  </clipPath>\n</defs>\n<path clip-path=\"url(#clip320)\" d=\"\nM0 1600 L2400 1600 L2400 0 L0 0  Z\n  \" fill=\"#ffffff\" fill-rule=\"evenodd\" fill-opacity=\"1\"/>\n<defs>\n  <clipPath id=\"clip321\">\n    <rect x=\"480\" y=\"0\" width=\"1681\" height=\"1600\"/>\n  </clipPath>\n</defs>\n<path clip-path=\"url(#clip320)\" d=\"\nM235.283 1423.18 L2352.76 1423.18 L2352.76 47.2441 L235.283 47.2441  Z\n  \" fill=\"#ffffff\" fill-rule=\"evenodd\" fill-opacity=\"1\"/>\n<defs>\n  <clipPath id=\"clip322\">\n    <rect x=\"235\" y=\"47\" width=\"2118\" height=\"1377\"/>\n  </clipPath>\n</defs>\n<polyline clip-path=\"url(#clip322)\" style=\"stroke:#000000; stroke-linecap:butt; stroke-linejoin:round; stroke-width:2; stroke-opacity:0.1; fill:none\" points=\"\n  253.594,1423.18 253.594,47.2441 \n  \"/>\n<polyline clip-path=\"url(#clip322)\" style=\"stroke:#000000; stroke-linecap:butt; stroke-linejoin:round; stroke-width:2; stroke-opacity:0.1; fill:none\" points=\"\n  773.807,1423.18 773.807,47.2441 \n  \"/>\n<polyline clip-path=\"url(#clip322)\" style=\"stroke:#000000; stroke-linecap:butt; stroke-linejoin:round; stroke-width:2; stroke-opacity:0.1; fill:none\" points=\"\n  1294.02,1423.18 1294.02,47.2441 \n  \"/>\n<polyline clip-path=\"url(#clip322)\" style=\"stroke:#000000; stroke-linecap:butt; stroke-linejoin:round; stroke-width:2; stroke-opacity:0.1; fill:none\" points=\"\n  1814.23,1423.18 1814.23,47.2441 \n  \"/>\n<polyline clip-path=\"url(#clip322)\" style=\"stroke:#000000; stroke-linecap:butt; stroke-linejoin:round; stroke-width:2; stroke-opacity:0.1; fill:none\" points=\"\n  2334.44,1423.18 2334.44,47.2441 \n  \"/>\n<polyline clip-path=\"url(#clip320)\" style=\"stroke:#000000; stroke-linecap:butt; stroke-linejoin:round; stroke-width:4; stroke-opacity:1; fill:none\" points=\"\n  235.283,1423.18 2352.76,1423.18 \n  \"/>\n<polyline clip-path=\"url(#clip320)\" style=\"stroke:#000000; stroke-linecap:butt; stroke-linejoin:round; stroke-width:4; stroke-opacity:1; fill:none\" points=\"\n  253.594,1423.18 253.594,1404.28 \n  \"/>\n<polyline clip-path=\"url(#clip320)\" style=\"stroke:#000000; stroke-linecap:butt; stroke-linejoin:round; stroke-width:4; stroke-opacity:1; fill:none\" points=\"\n  773.807,1423.18 773.807,1404.28 \n  \"/>\n<polyline clip-path=\"url(#clip320)\" style=\"stroke:#000000; stroke-linecap:butt; stroke-linejoin:round; stroke-width:4; stroke-opacity:1; fill:none\" points=\"\n  1294.02,1423.18 1294.02,1404.28 \n  \"/>\n<polyline clip-path=\"url(#clip320)\" style=\"stroke:#000000; stroke-linecap:butt; stroke-linejoin:round; stroke-width:4; stroke-opacity:1; fill:none\" points=\"\n  1814.23,1423.18 1814.23,1404.28 \n  \"/>\n<polyline clip-path=\"url(#clip320)\" style=\"stroke:#000000; stroke-linecap:butt; stroke-linejoin:round; stroke-width:4; stroke-opacity:1; fill:none\" points=\"\n  2334.44,1423.18 2334.44,1404.28 \n  \"/>\n<path clip-path=\"url(#clip320)\" d=\"M192.576 1467.02 L222.252 1467.02 L222.252 1470.96 L192.576 1470.96 L192.576 1467.02 Z\" fill=\"#000000\" fill-rule=\"evenodd\" fill-opacity=\"1\" /><path clip-path=\"url(#clip320)\" d=\"M245.192 1453.37 L233.386 1471.81 L245.192 1471.81 L245.192 1453.37 M243.965 1449.29 L249.844 1449.29 L249.844 1471.81 L254.775 1471.81 L254.775 1475.7 L249.844 1475.7 L249.844 1483.85 L245.192 1483.85 L245.192 1475.7 L229.59 1475.7 L229.59 1471.19 L243.965 1449.29 Z\" fill=\"#000000\" fill-rule=\"evenodd\" fill-opacity=\"1\" /><path clip-path=\"url(#clip320)\" d=\"M272.506 1452.37 Q268.895 1452.37 267.066 1455.94 Q265.261 1459.48 265.261 1466.61 Q265.261 1473.71 267.066 1477.28 Q268.895 1480.82 272.506 1480.82 Q276.141 1480.82 277.946 1477.28 Q279.775 1473.71 279.775 1466.61 Q279.775 1459.48 277.946 1455.94 Q276.141 1452.37 272.506 1452.37 M272.506 1448.67 Q278.316 1448.67 281.372 1453.27 Q284.451 1457.86 284.451 1466.61 Q284.451 1475.33 281.372 1479.94 Q278.316 1484.52 272.506 1484.52 Q266.696 1484.52 263.617 1479.94 Q260.562 1475.33 260.562 1466.61 Q260.562 1457.86 263.617 1453.27 Q266.696 1448.67 272.506 1448.67 Z\" fill=\"#000000\" fill-rule=\"evenodd\" fill-opacity=\"1\" /><path clip-path=\"url(#clip320)\" d=\"M302.668 1452.37 Q299.057 1452.37 297.228 1455.94 Q295.423 1459.48 295.423 1466.61 Q295.423 1473.71 297.228 1477.28 Q299.057 1480.82 302.668 1480.82 Q306.302 1480.82 308.108 1477.28 Q309.937 1473.71 309.937 1466.61 Q309.937 1459.48 308.108 1455.94 Q306.302 1452.37 302.668 1452.37 M302.668 1448.67 Q308.478 1448.67 311.534 1453.27 Q314.613 1457.86 314.613 1466.61 Q314.613 1475.33 311.534 1479.94 Q308.478 1484.52 302.668 1484.52 Q296.858 1484.52 293.779 1479.94 Q290.724 1475.33 290.724 1466.61 Q290.724 1457.86 293.779 1453.27 Q296.858 1448.67 302.668 1448.67 Z\" fill=\"#000000\" fill-rule=\"evenodd\" fill-opacity=\"1\" /><path clip-path=\"url(#clip320)\" d=\"M712.789 1467.02 L742.464 1467.02 L742.464 1470.96 L712.789 1470.96 L712.789 1467.02 Z\" fill=\"#000000\" fill-rule=\"evenodd\" fill-opacity=\"1\" /><path clip-path=\"url(#clip320)\" d=\"M756.585 1479.92 L772.904 1479.92 L772.904 1483.85 L750.96 1483.85 L750.96 1479.92 Q753.622 1477.16 758.205 1472.53 Q762.812 1467.88 763.992 1466.54 Q766.237 1464.01 767.117 1462.28 Q768.02 1460.52 768.02 1458.83 Q768.02 1456.07 766.075 1454.34 Q764.154 1452.6 761.052 1452.6 Q758.853 1452.6 756.4 1453.37 Q753.969 1454.13 751.191 1455.68 L751.191 1450.96 Q754.015 1449.82 756.469 1449.25 Q758.923 1448.67 760.96 1448.67 Q766.33 1448.67 769.524 1451.35 Q772.719 1454.04 772.719 1458.53 Q772.719 1460.66 771.909 1462.58 Q771.122 1464.48 769.015 1467.07 Q768.437 1467.74 765.335 1470.96 Q762.233 1474.15 756.585 1479.92 Z\" fill=\"#000000\" fill-rule=\"evenodd\" fill-opacity=\"1\" /><path clip-path=\"url(#clip320)\" d=\"M792.719 1452.37 Q789.108 1452.37 787.279 1455.94 Q785.473 1459.48 785.473 1466.61 Q785.473 1473.71 787.279 1477.28 Q789.108 1480.82 792.719 1480.82 Q796.353 1480.82 798.159 1477.28 Q799.987 1473.71 799.987 1466.61 Q799.987 1459.48 798.159 1455.94 Q796.353 1452.37 792.719 1452.37 M792.719 1448.67 Q798.529 1448.67 801.584 1453.27 Q804.663 1457.86 804.663 1466.61 Q804.663 1475.33 801.584 1479.94 Q798.529 1484.52 792.719 1484.52 Q786.909 1484.52 783.83 1479.94 Q780.774 1475.33 780.774 1466.61 Q780.774 1457.86 783.83 1453.27 Q786.909 1448.67 792.719 1448.67 Z\" fill=\"#000000\" fill-rule=\"evenodd\" fill-opacity=\"1\" /><path clip-path=\"url(#clip320)\" d=\"M822.881 1452.37 Q819.27 1452.37 817.441 1455.94 Q815.635 1459.48 815.635 1466.61 Q815.635 1473.71 817.441 1477.28 Q819.27 1480.82 822.881 1480.82 Q826.515 1480.82 828.32 1477.28 Q830.149 1473.71 830.149 1466.61 Q830.149 1459.48 828.32 1455.94 Q826.515 1452.37 822.881 1452.37 M822.881 1448.67 Q828.691 1448.67 831.746 1453.27 Q834.825 1457.86 834.825 1466.61 Q834.825 1475.33 831.746 1479.94 Q828.691 1484.52 822.881 1484.52 Q817.071 1484.52 813.992 1479.94 Q810.936 1475.33 810.936 1466.61 Q810.936 1457.86 813.992 1453.27 Q817.071 1448.67 822.881 1448.67 Z\" fill=\"#000000\" fill-rule=\"evenodd\" fill-opacity=\"1\" /><path clip-path=\"url(#clip320)\" d=\"M1294.02 1452.37 Q1290.41 1452.37 1288.58 1455.94 Q1286.77 1459.48 1286.77 1466.61 Q1286.77 1473.71 1288.58 1477.28 Q1290.41 1480.82 1294.02 1480.82 Q1297.65 1480.82 1299.46 1477.28 Q1301.29 1473.71 1301.29 1466.61 Q1301.29 1459.48 1299.46 1455.94 Q1297.65 1452.37 1294.02 1452.37 M1294.02 1448.67 Q1299.83 1448.67 1302.89 1453.27 Q1305.96 1457.86 1305.96 1466.61 Q1305.96 1475.33 1302.89 1479.94 Q1299.83 1484.52 1294.02 1484.52 Q1288.21 1484.52 1285.13 1479.94 Q1282.07 1475.33 1282.07 1466.61 Q1282.07 1457.86 1285.13 1453.27 Q1288.21 1448.67 1294.02 1448.67 Z\" fill=\"#000000\" fill-rule=\"evenodd\" fill-opacity=\"1\" /><path clip-path=\"url(#clip320)\" d=\"M1777.92 1479.92 L1794.24 1479.92 L1794.24 1483.85 L1772.3 1483.85 L1772.3 1479.92 Q1774.96 1477.16 1779.54 1472.53 Q1784.15 1467.88 1785.33 1466.54 Q1787.58 1464.01 1788.46 1462.28 Q1789.36 1460.52 1789.36 1458.83 Q1789.36 1456.07 1787.41 1454.34 Q1785.49 1452.6 1782.39 1452.6 Q1780.19 1452.6 1777.74 1453.37 Q1775.31 1454.13 1772.53 1455.68 L1772.53 1450.96 Q1775.35 1449.82 1777.81 1449.25 Q1780.26 1448.67 1782.3 1448.67 Q1787.67 1448.67 1790.86 1451.35 Q1794.06 1454.04 1794.06 1458.53 Q1794.06 1460.66 1793.25 1462.58 Q1792.46 1464.48 1790.35 1467.07 Q1789.78 1467.74 1786.67 1470.96 Q1783.57 1474.15 1777.92 1479.92 Z\" fill=\"#000000\" fill-rule=\"evenodd\" fill-opacity=\"1\" /><path clip-path=\"url(#clip320)\" d=\"M1814.06 1452.37 Q1810.45 1452.37 1808.62 1455.94 Q1806.81 1459.48 1806.81 1466.61 Q1806.81 1473.71 1808.62 1477.28 Q1810.45 1480.82 1814.06 1480.82 Q1817.69 1480.82 1819.5 1477.28 Q1821.33 1473.71 1821.33 1466.61 Q1821.33 1459.48 1819.5 1455.94 Q1817.69 1452.37 1814.06 1452.37 M1814.06 1448.67 Q1819.87 1448.67 1822.92 1453.27 Q1826 1457.86 1826 1466.61 Q1826 1475.33 1822.92 1479.94 Q1819.87 1484.52 1814.06 1484.52 Q1808.25 1484.52 1805.17 1479.94 Q1802.11 1475.33 1802.11 1466.61 Q1802.11 1457.86 1805.17 1453.27 Q1808.25 1448.67 1814.06 1448.67 Z\" fill=\"#000000\" fill-rule=\"evenodd\" fill-opacity=\"1\" /><path clip-path=\"url(#clip320)\" d=\"M1844.22 1452.37 Q1840.61 1452.37 1838.78 1455.94 Q1836.97 1459.48 1836.97 1466.61 Q1836.97 1473.71 1838.78 1477.28 Q1840.61 1480.82 1844.22 1480.82 Q1847.85 1480.82 1849.66 1477.28 Q1851.49 1473.71 1851.49 1466.61 Q1851.49 1459.48 1849.66 1455.94 Q1847.85 1452.37 1844.22 1452.37 M1844.22 1448.67 Q1850.03 1448.67 1853.09 1453.27 Q1856.16 1457.86 1856.16 1466.61 Q1856.16 1475.33 1853.09 1479.94 Q1850.03 1484.52 1844.22 1484.52 Q1838.41 1484.52 1835.33 1479.94 Q1832.28 1475.33 1832.28 1466.61 Q1832.28 1457.86 1835.33 1453.27 Q1838.41 1448.67 1844.22 1448.67 Z\" fill=\"#000000\" fill-rule=\"evenodd\" fill-opacity=\"1\" /><path clip-path=\"url(#clip320)\" d=\"M2307.53 1453.37 L2295.73 1471.81 L2307.53 1471.81 L2307.53 1453.37 M2306.31 1449.29 L2312.19 1449.29 L2312.19 1471.81 L2317.12 1471.81 L2317.12 1475.7 L2312.19 1475.7 L2312.19 1483.85 L2307.53 1483.85 L2307.53 1475.7 L2291.93 1475.7 L2291.93 1471.19 L2306.31 1449.29 Z\" fill=\"#000000\" fill-rule=\"evenodd\" fill-opacity=\"1\" /><path clip-path=\"url(#clip320)\" d=\"M2334.85 1452.37 Q2331.24 1452.37 2329.41 1455.94 Q2327.6 1459.48 2327.6 1466.61 Q2327.6 1473.71 2329.41 1477.28 Q2331.24 1480.82 2334.85 1480.82 Q2338.48 1480.82 2340.29 1477.28 Q2342.12 1473.71 2342.12 1466.61 Q2342.12 1459.48 2340.29 1455.94 Q2338.48 1452.37 2334.85 1452.37 M2334.85 1448.67 Q2340.66 1448.67 2343.72 1453.27 Q2346.79 1457.86 2346.79 1466.61 Q2346.79 1475.33 2343.72 1479.94 Q2340.66 1484.52 2334.85 1484.52 Q2329.04 1484.52 2325.96 1479.94 Q2322.91 1475.33 2322.91 1466.61 Q2322.91 1457.86 2325.96 1453.27 Q2329.04 1448.67 2334.85 1448.67 Z\" fill=\"#000000\" fill-rule=\"evenodd\" fill-opacity=\"1\" /><path clip-path=\"url(#clip320)\" d=\"M2365.01 1452.37 Q2361.4 1452.37 2359.57 1455.94 Q2357.77 1459.48 2357.77 1466.61 Q2357.77 1473.71 2359.57 1477.28 Q2361.4 1480.82 2365.01 1480.82 Q2368.65 1480.82 2370.45 1477.28 Q2372.28 1473.71 2372.28 1466.61 Q2372.28 1459.48 2370.45 1455.94 Q2368.65 1452.37 2365.01 1452.37 M2365.01 1448.67 Q2370.82 1448.67 2373.88 1453.27 Q2376.96 1457.86 2376.96 1466.61 Q2376.96 1475.33 2373.88 1479.94 Q2370.82 1484.52 2365.01 1484.52 Q2359.2 1484.52 2356.12 1479.94 Q2353.07 1475.33 2353.07 1466.61 Q2353.07 1457.86 2356.12 1453.27 Q2359.2 1448.67 2365.01 1448.67 Z\" fill=\"#000000\" fill-rule=\"evenodd\" fill-opacity=\"1\" /><path clip-path=\"url(#clip320)\" d=\"M1165.64 1532.4 L1193.46 1532.4 L1193.46 1537.74 L1171.43 1563.37 L1193.46 1563.37 L1193.46 1568.04 L1164.84 1568.04 L1164.84 1562.7 L1186.87 1537.07 L1165.64 1537.07 L1165.64 1532.4 Z\" fill=\"#000000\" fill-rule=\"evenodd\" fill-opacity=\"1\" /><path clip-path=\"url(#clip320)\" d=\"M1225.13 1533.45 L1225.13 1538.98 Q1222.64 1537.71 1219.97 1537.07 Q1217.3 1536.44 1214.43 1536.44 Q1210.07 1536.44 1207.88 1537.77 Q1205.71 1539.11 1205.71 1541.79 Q1205.71 1543.82 1207.27 1545 Q1208.83 1546.15 1213.54 1547.2 L1215.55 1547.64 Q1221.78 1548.98 1224.39 1551.43 Q1227.04 1553.85 1227.04 1558.21 Q1227.04 1563.17 1223.09 1566.07 Q1219.17 1568.97 1212.3 1568.97 Q1209.44 1568.97 1206.32 1568.39 Q1203.23 1567.85 1199.79 1566.74 L1199.79 1560.69 Q1203.04 1562.38 1206.19 1563.24 Q1209.34 1564.07 1212.43 1564.07 Q1216.56 1564.07 1218.79 1562.66 Q1221.02 1561.23 1221.02 1558.65 Q1221.02 1556.27 1219.4 1554.99 Q1217.81 1553.72 1212.36 1552.54 L1210.33 1552.07 Q1204.88 1550.92 1202.46 1548.56 Q1200.05 1546.18 1200.05 1542.04 Q1200.05 1537.01 1203.61 1534.27 Q1207.18 1531.54 1213.73 1531.54 Q1216.98 1531.54 1219.84 1532.01 Q1222.71 1532.49 1225.13 1533.45 Z\" fill=\"#000000\" fill-rule=\"evenodd\" fill-opacity=\"1\" /><path clip-path=\"url(#clip320)\" d=\"M1271.15 1518.58 Q1266.89 1525.9 1264.82 1533.06 Q1262.75 1540.23 1262.75 1547.58 Q1262.75 1554.93 1264.82 1562.16 Q1266.92 1569.35 1271.15 1576.64 L1266.06 1576.64 Q1261.28 1569.16 1258.9 1561.93 Q1256.54 1554.71 1256.54 1547.58 Q1256.54 1540.48 1258.9 1533.29 Q1261.25 1526.09 1266.06 1518.58 L1271.15 1518.58 Z\" fill=\"#000000\" fill-rule=\"evenodd\" fill-opacity=\"1\" /><path clip-path=\"url(#clip320)\" d=\"M1310.27 1539.24 Q1312.46 1535.29 1315.52 1533.41 Q1318.58 1531.54 1322.71 1531.54 Q1328.28 1531.54 1331.31 1535.45 Q1334.33 1539.33 1334.33 1546.53 L1334.33 1568.04 L1328.44 1568.04 L1328.44 1546.72 Q1328.44 1541.59 1326.63 1539.11 Q1324.81 1536.63 1321.09 1536.63 Q1316.54 1536.63 1313.9 1539.65 Q1311.25 1542.68 1311.25 1547.9 L1311.25 1568.04 L1305.37 1568.04 L1305.37 1546.72 Q1305.37 1541.56 1303.55 1539.11 Q1301.74 1536.63 1297.95 1536.63 Q1293.46 1536.63 1290.82 1539.68 Q1288.18 1542.71 1288.18 1547.9 L1288.18 1568.04 L1282.29 1568.04 L1282.29 1532.4 L1288.18 1532.4 L1288.18 1537.93 Q1290.18 1534.66 1292.98 1533.1 Q1295.79 1531.54 1299.64 1531.54 Q1303.52 1531.54 1306.23 1533.51 Q1308.96 1535.48 1310.27 1539.24 Z\" fill=\"#000000\" fill-rule=\"evenodd\" fill-opacity=\"1\" /><path clip-path=\"url(#clip320)\" d=\"M1373.77 1539.24 Q1375.96 1535.29 1379.02 1533.41 Q1382.07 1531.54 1386.21 1531.54 Q1391.78 1531.54 1394.8 1535.45 Q1397.83 1539.33 1397.83 1546.53 L1397.83 1568.04 L1391.94 1568.04 L1391.94 1546.72 Q1391.94 1541.59 1390.13 1539.11 Q1388.31 1536.63 1384.59 1536.63 Q1380.04 1536.63 1377.39 1539.65 Q1374.75 1542.68 1374.75 1547.9 L1374.75 1568.04 L1368.86 1568.04 L1368.86 1546.72 Q1368.86 1541.56 1367.05 1539.11 Q1365.24 1536.63 1361.45 1536.63 Q1356.96 1536.63 1354.32 1539.68 Q1351.68 1542.71 1351.68 1547.9 L1351.68 1568.04 L1345.79 1568.04 L1345.79 1532.4 L1351.68 1532.4 L1351.68 1537.93 Q1353.68 1534.66 1356.48 1533.1 Q1359.28 1531.54 1363.14 1531.54 Q1367.02 1531.54 1369.72 1533.51 Q1372.46 1535.48 1373.77 1539.24 Z\" fill=\"#000000\" fill-rule=\"evenodd\" fill-opacity=\"1\" /><path clip-path=\"url(#clip320)\" d=\"M1408.59 1518.58 L1413.68 1518.58 Q1418.45 1526.09 1420.81 1533.29 Q1423.2 1540.48 1423.2 1547.58 Q1423.2 1554.71 1420.81 1561.93 Q1418.45 1569.16 1413.68 1576.64 L1408.59 1576.64 Q1412.82 1569.35 1414.89 1562.16 Q1416.99 1554.93 1416.99 1547.58 Q1416.99 1540.23 1414.89 1533.06 Q1412.82 1525.9 1408.59 1518.58 Z\" fill=\"#000000\" fill-rule=\"evenodd\" fill-opacity=\"1\" /><polyline clip-path=\"url(#clip322)\" style=\"stroke:#000000; stroke-linecap:butt; stroke-linejoin:round; stroke-width:2; stroke-opacity:0.1; fill:none\" points=\"\n  235.283,1384.24 2352.76,1384.24 \n  \"/>\n<polyline clip-path=\"url(#clip322)\" style=\"stroke:#000000; stroke-linecap:butt; stroke-linejoin:round; stroke-width:2; stroke-opacity:0.1; fill:none\" points=\"\n  235.283,1096.92 2352.76,1096.92 \n  \"/>\n<polyline clip-path=\"url(#clip322)\" style=\"stroke:#000000; stroke-linecap:butt; stroke-linejoin:round; stroke-width:2; stroke-opacity:0.1; fill:none\" points=\"\n  235.283,809.601 2352.76,809.601 \n  \"/>\n<polyline clip-path=\"url(#clip322)\" style=\"stroke:#000000; stroke-linecap:butt; stroke-linejoin:round; stroke-width:2; stroke-opacity:0.1; fill:none\" points=\"\n  235.283,522.283 2352.76,522.283 \n  \"/>\n<polyline clip-path=\"url(#clip322)\" style=\"stroke:#000000; stroke-linecap:butt; stroke-linejoin:round; stroke-width:2; stroke-opacity:0.1; fill:none\" points=\"\n  235.283,234.964 2352.76,234.964 \n  \"/>\n<polyline clip-path=\"url(#clip320)\" style=\"stroke:#000000; stroke-linecap:butt; stroke-linejoin:round; stroke-width:4; stroke-opacity:1; fill:none\" points=\"\n  235.283,1423.18 235.283,47.2441 \n  \"/>\n<polyline clip-path=\"url(#clip320)\" style=\"stroke:#000000; stroke-linecap:butt; stroke-linejoin:round; stroke-width:4; stroke-opacity:1; fill:none\" points=\"\n  235.283,1384.24 254.18,1384.24 \n  \"/>\n<polyline clip-path=\"url(#clip320)\" style=\"stroke:#000000; stroke-linecap:butt; stroke-linejoin:round; stroke-width:4; stroke-opacity:1; fill:none\" points=\"\n  235.283,1096.92 254.18,1096.92 \n  \"/>\n<polyline clip-path=\"url(#clip320)\" style=\"stroke:#000000; stroke-linecap:butt; stroke-linejoin:round; stroke-width:4; stroke-opacity:1; fill:none\" points=\"\n  235.283,809.601 254.18,809.601 \n  \"/>\n<polyline clip-path=\"url(#clip320)\" style=\"stroke:#000000; stroke-linecap:butt; stroke-linejoin:round; stroke-width:4; stroke-opacity:1; fill:none\" points=\"\n  235.283,522.283 254.18,522.283 \n  \"/>\n<polyline clip-path=\"url(#clip320)\" style=\"stroke:#000000; stroke-linecap:butt; stroke-linejoin:round; stroke-width:4; stroke-opacity:1; fill:none\" points=\"\n  235.283,234.964 254.18,234.964 \n  \"/>\n<path clip-path=\"url(#clip320)\" d=\"M187.338 1370.04 Q183.727 1370.04 181.899 1373.6 Q180.093 1377.14 180.093 1384.27 Q180.093 1391.38 181.899 1394.94 Q183.727 1398.49 187.338 1398.49 Q190.973 1398.49 192.778 1394.94 Q194.607 1391.38 194.607 1384.27 Q194.607 1377.14 192.778 1373.6 Q190.973 1370.04 187.338 1370.04 M187.338 1366.33 Q193.149 1366.33 196.204 1370.94 Q199.283 1375.52 199.283 1384.27 Q199.283 1393 196.204 1397.61 Q193.149 1402.19 187.338 1402.19 Q181.528 1402.19 178.45 1397.61 Q175.394 1393 175.394 1384.27 Q175.394 1375.52 178.45 1370.94 Q181.528 1366.33 187.338 1366.33 Z\" fill=\"#000000\" fill-rule=\"evenodd\" fill-opacity=\"1\" /><path clip-path=\"url(#clip320)\" d=\"M121.043 1110.26 L137.362 1110.26 L137.362 1114.2 L115.418 1114.2 L115.418 1110.26 Q118.08 1107.51 122.663 1102.88 Q127.269 1098.23 128.45 1096.89 Q130.695 1094.36 131.575 1092.63 Q132.478 1090.87 132.478 1089.18 Q132.478 1086.42 130.533 1084.69 Q128.612 1082.95 125.51 1082.95 Q123.311 1082.95 120.857 1083.71 Q118.427 1084.48 115.649 1086.03 L115.649 1081.31 Q118.473 1080.17 120.927 1079.59 Q123.38 1079.01 125.418 1079.01 Q130.788 1079.01 133.982 1081.7 Q137.177 1084.39 137.177 1088.88 Q137.177 1091.01 136.367 1092.93 Q135.579 1094.82 133.473 1097.42 Q132.894 1098.09 129.792 1101.31 Q126.691 1104.5 121.043 1110.26 Z\" fill=\"#000000\" fill-rule=\"evenodd\" fill-opacity=\"1\" /><path clip-path=\"url(#clip320)\" d=\"M157.177 1082.72 Q153.566 1082.72 151.737 1086.28 Q149.931 1089.82 149.931 1096.95 Q149.931 1104.06 151.737 1107.63 Q153.566 1111.17 157.177 1111.17 Q160.811 1111.17 162.616 1107.63 Q164.445 1104.06 164.445 1096.95 Q164.445 1089.82 162.616 1086.28 Q160.811 1082.72 157.177 1082.72 M157.177 1079.01 Q162.987 1079.01 166.042 1083.62 Q169.121 1088.2 169.121 1096.95 Q169.121 1105.68 166.042 1110.29 Q162.987 1114.87 157.177 1114.87 Q151.366 1114.87 148.288 1110.29 Q145.232 1105.68 145.232 1096.95 Q145.232 1088.2 148.288 1083.62 Q151.366 1079.01 157.177 1079.01 Z\" fill=\"#000000\" fill-rule=\"evenodd\" fill-opacity=\"1\" /><path clip-path=\"url(#clip320)\" d=\"M187.338 1082.72 Q183.727 1082.72 181.899 1086.28 Q180.093 1089.82 180.093 1096.95 Q180.093 1104.06 181.899 1107.63 Q183.727 1111.17 187.338 1111.17 Q190.973 1111.17 192.778 1107.63 Q194.607 1104.06 194.607 1096.95 Q194.607 1089.82 192.778 1086.28 Q190.973 1082.72 187.338 1082.72 M187.338 1079.01 Q193.149 1079.01 196.204 1083.62 Q199.283 1088.2 199.283 1096.95 Q199.283 1105.68 196.204 1110.29 Q193.149 1114.87 187.338 1114.87 Q181.528 1114.87 178.45 1110.29 Q175.394 1105.68 175.394 1096.95 Q175.394 1088.2 178.45 1083.62 Q181.528 1079.01 187.338 1079.01 Z\" fill=\"#000000\" fill-rule=\"evenodd\" fill-opacity=\"1\" /><path clip-path=\"url(#clip320)\" d=\"M129.862 796.395 L118.056 814.844 L129.862 814.844 L129.862 796.395 M128.635 792.321 L134.515 792.321 L134.515 814.844 L139.445 814.844 L139.445 818.733 L134.515 818.733 L134.515 826.881 L129.862 826.881 L129.862 818.733 L114.26 818.733 L114.26 814.219 L128.635 792.321 Z\" fill=\"#000000\" fill-rule=\"evenodd\" fill-opacity=\"1\" /><path clip-path=\"url(#clip320)\" d=\"M157.177 795.4 Q153.566 795.4 151.737 798.965 Q149.931 802.506 149.931 809.636 Q149.931 816.742 151.737 820.307 Q153.566 823.849 157.177 823.849 Q160.811 823.849 162.616 820.307 Q164.445 816.742 164.445 809.636 Q164.445 802.506 162.616 798.965 Q160.811 795.4 157.177 795.4 M157.177 791.696 Q162.987 791.696 166.042 796.303 Q169.121 800.886 169.121 809.636 Q169.121 818.363 166.042 822.969 Q162.987 827.553 157.177 827.553 Q151.366 827.553 148.288 822.969 Q145.232 818.363 145.232 809.636 Q145.232 800.886 148.288 796.303 Q151.366 791.696 157.177 791.696 Z\" fill=\"#000000\" fill-rule=\"evenodd\" fill-opacity=\"1\" /><path clip-path=\"url(#clip320)\" d=\"M187.338 795.4 Q183.727 795.4 181.899 798.965 Q180.093 802.506 180.093 809.636 Q180.093 816.742 181.899 820.307 Q183.727 823.849 187.338 823.849 Q190.973 823.849 192.778 820.307 Q194.607 816.742 194.607 809.636 Q194.607 802.506 192.778 798.965 Q190.973 795.4 187.338 795.4 M187.338 791.696 Q193.149 791.696 196.204 796.303 Q199.283 800.886 199.283 809.636 Q199.283 818.363 196.204 822.969 Q193.149 827.553 187.338 827.553 Q181.528 827.553 178.45 822.969 Q175.394 818.363 175.394 809.636 Q175.394 800.886 178.45 796.303 Q181.528 791.696 187.338 791.696 Z\" fill=\"#000000\" fill-rule=\"evenodd\" fill-opacity=\"1\" /><path clip-path=\"url(#clip320)\" d=\"M127.593 520.419 Q124.445 520.419 122.593 522.572 Q120.765 524.725 120.765 528.475 Q120.765 532.202 122.593 534.378 Q124.445 536.53 127.593 536.53 Q130.742 536.53 132.57 534.378 Q134.422 532.202 134.422 528.475 Q134.422 524.725 132.57 522.572 Q130.742 520.419 127.593 520.419 M136.876 505.767 L136.876 510.026 Q135.117 509.193 133.311 508.753 Q131.529 508.313 129.769 508.313 Q125.14 508.313 122.686 511.438 Q120.255 514.563 119.908 520.882 Q121.274 518.868 123.334 517.804 Q125.394 516.716 127.871 516.716 Q133.08 516.716 136.089 519.887 Q139.121 523.035 139.121 528.475 Q139.121 533.799 135.973 537.016 Q132.825 540.234 127.593 540.234 Q121.598 540.234 118.427 535.651 Q115.256 531.044 115.256 522.317 Q115.256 514.123 119.144 509.262 Q123.033 504.378 129.584 504.378 Q131.343 504.378 133.126 504.725 Q134.931 505.072 136.876 505.767 Z\" fill=\"#000000\" fill-rule=\"evenodd\" fill-opacity=\"1\" /><path clip-path=\"url(#clip320)\" d=\"M157.177 508.081 Q153.566 508.081 151.737 511.646 Q149.931 515.188 149.931 522.317 Q149.931 529.424 151.737 532.989 Q153.566 536.53 157.177 536.53 Q160.811 536.53 162.616 532.989 Q164.445 529.424 164.445 522.317 Q164.445 515.188 162.616 511.646 Q160.811 508.081 157.177 508.081 M157.177 504.378 Q162.987 504.378 166.042 508.984 Q169.121 513.567 169.121 522.317 Q169.121 531.044 166.042 535.651 Q162.987 540.234 157.177 540.234 Q151.366 540.234 148.288 535.651 Q145.232 531.044 145.232 522.317 Q145.232 513.567 148.288 508.984 Q151.366 504.378 157.177 504.378 Z\" fill=\"#000000\" fill-rule=\"evenodd\" fill-opacity=\"1\" /><path clip-path=\"url(#clip320)\" d=\"M187.338 508.081 Q183.727 508.081 181.899 511.646 Q180.093 515.188 180.093 522.317 Q180.093 529.424 181.899 532.989 Q183.727 536.53 187.338 536.53 Q190.973 536.53 192.778 532.989 Q194.607 529.424 194.607 522.317 Q194.607 515.188 192.778 511.646 Q190.973 508.081 187.338 508.081 M187.338 504.378 Q193.149 504.378 196.204 508.984 Q199.283 513.567 199.283 522.317 Q199.283 531.044 196.204 535.651 Q193.149 540.234 187.338 540.234 Q181.528 540.234 178.45 535.651 Q175.394 531.044 175.394 522.317 Q175.394 513.567 178.45 508.984 Q181.528 504.378 187.338 504.378 Z\" fill=\"#000000\" fill-rule=\"evenodd\" fill-opacity=\"1\" /><path clip-path=\"url(#clip320)\" d=\"M127.015 235.832 Q123.681 235.832 121.76 237.615 Q119.862 239.397 119.862 242.522 Q119.862 245.647 121.76 247.429 Q123.681 249.212 127.015 249.212 Q130.348 249.212 132.269 247.429 Q134.191 245.624 134.191 242.522 Q134.191 239.397 132.269 237.615 Q130.371 235.832 127.015 235.832 M122.339 233.842 Q119.33 233.101 117.64 231.041 Q115.973 228.98 115.973 226.018 Q115.973 221.874 118.913 219.467 Q121.876 217.059 127.015 217.059 Q132.177 217.059 135.117 219.467 Q138.056 221.874 138.056 226.018 Q138.056 228.98 136.367 231.041 Q134.7 233.101 131.714 233.842 Q135.093 234.629 136.968 236.92 Q138.867 239.212 138.867 242.522 Q138.867 247.545 135.788 250.23 Q132.732 252.916 127.015 252.916 Q121.297 252.916 118.218 250.23 Q115.163 247.545 115.163 242.522 Q115.163 239.212 117.061 236.92 Q118.959 234.629 122.339 233.842 M120.626 226.457 Q120.626 229.142 122.293 230.647 Q123.982 232.152 127.015 232.152 Q130.024 232.152 131.714 230.647 Q133.427 229.142 133.427 226.457 Q133.427 223.772 131.714 222.268 Q130.024 220.763 127.015 220.763 Q123.982 220.763 122.293 222.268 Q120.626 223.772 120.626 226.457 Z\" fill=\"#000000\" fill-rule=\"evenodd\" fill-opacity=\"1\" /><path clip-path=\"url(#clip320)\" d=\"M157.177 220.763 Q153.566 220.763 151.737 224.328 Q149.931 227.869 149.931 234.999 Q149.931 242.105 151.737 245.67 Q153.566 249.212 157.177 249.212 Q160.811 249.212 162.616 245.67 Q164.445 242.105 164.445 234.999 Q164.445 227.869 162.616 224.328 Q160.811 220.763 157.177 220.763 M157.177 217.059 Q162.987 217.059 166.042 221.666 Q169.121 226.249 169.121 234.999 Q169.121 243.726 166.042 248.332 Q162.987 252.916 157.177 252.916 Q151.366 252.916 148.288 248.332 Q145.232 243.726 145.232 234.999 Q145.232 226.249 148.288 221.666 Q151.366 217.059 157.177 217.059 Z\" fill=\"#000000\" fill-rule=\"evenodd\" fill-opacity=\"1\" /><path clip-path=\"url(#clip320)\" d=\"M187.338 220.763 Q183.727 220.763 181.899 224.328 Q180.093 227.869 180.093 234.999 Q180.093 242.105 181.899 245.67 Q183.727 249.212 187.338 249.212 Q190.973 249.212 192.778 245.67 Q194.607 242.105 194.607 234.999 Q194.607 227.869 192.778 224.328 Q190.973 220.763 187.338 220.763 M187.338 217.059 Q193.149 217.059 196.204 221.666 Q199.283 226.249 199.283 234.999 Q199.283 243.726 196.204 248.332 Q193.149 252.916 187.338 252.916 Q181.528 252.916 178.45 248.332 Q175.394 243.726 175.394 234.999 Q175.394 226.249 178.45 221.666 Q181.528 217.059 187.338 217.059 Z\" fill=\"#000000\" fill-rule=\"evenodd\" fill-opacity=\"1\" /><path clip-path=\"url(#clip320)\" d=\"M14.479 874.271 L19.3487 874.271 L19.3487 879.873 Q19.3487 883.024 20.6219 884.265 Q21.895 885.474 25.2052 885.474 L28.3562 885.474 L28.3562 875.83 L32.9077 875.83 L32.9077 885.474 L64.0042 885.474 L64.0042 891.363 L32.9077 891.363 L32.9077 896.965 L28.3562 896.965 L28.3562 891.363 L25.8736 891.363 Q19.9216 891.363 17.2162 888.594 Q14.479 885.825 14.479 879.809 L14.479 874.271 Z\" fill=\"#000000\" fill-rule=\"evenodd\" fill-opacity=\"1\" /><path clip-path=\"url(#clip320)\" d=\"M33.8307 848.713 Q33.2578 849.699 33.0032 850.877 Q32.7167 852.023 32.7167 853.423 Q32.7167 858.388 35.9632 861.062 Q39.1779 863.704 45.2253 863.704 L64.0042 863.704 L64.0042 869.592 L28.3562 869.592 L28.3562 863.704 L33.8944 863.704 Q30.6479 861.858 29.0883 858.898 Q27.4968 855.938 27.4968 851.704 Q27.4968 851.1 27.5923 850.368 Q27.656 849.636 27.8151 848.744 L33.8307 848.713 Z\" fill=\"#000000\" fill-rule=\"evenodd\" fill-opacity=\"1\" /><path clip-path=\"url(#clip320)\" d=\"M44.7161 813.51 L47.5806 813.51 L47.5806 840.437 Q53.6281 840.055 56.8109 836.809 Q59.9619 833.53 59.9619 827.706 Q59.9619 824.332 59.1344 821.181 Q58.3069 817.998 56.6518 814.879 L62.1899 814.879 Q63.5267 818.03 64.227 821.34 Q64.9272 824.65 64.9272 828.056 Q64.9272 836.586 59.9619 841.583 Q54.9967 846.548 46.5303 846.548 Q37.7774 846.548 32.6531 841.838 Q27.4968 837.095 27.4968 829.074 Q27.4968 821.881 32.1438 817.712 Q36.7589 813.51 44.7161 813.51 M42.9973 819.367 Q38.1912 819.43 35.3266 822.072 Q32.4621 824.682 32.4621 829.011 Q32.4621 833.912 35.2312 836.872 Q38.0002 839.801 43.0292 840.246 L42.9973 819.367 Z\" fill=\"#000000\" fill-rule=\"evenodd\" fill-opacity=\"1\" /><path clip-path=\"url(#clip320)\" d=\"M46.212 800.397 Q52.6732 800.397 56.3653 797.755 Q60.0256 795.081 60.0256 790.434 Q60.0256 785.788 56.3653 783.114 Q52.6732 780.44 46.212 780.44 Q39.7508 780.44 36.0905 783.114 Q32.3984 785.788 32.3984 790.434 Q32.3984 795.081 36.0905 797.755 Q39.7508 800.397 46.212 800.397 M58.657 780.44 Q61.8398 782.286 63.3994 785.119 Q64.9272 787.92 64.9272 791.867 Q64.9272 798.328 59.771 802.402 Q54.6147 806.444 46.212 806.444 Q37.8093 806.444 32.6531 802.402 Q27.4968 798.328 27.4968 791.867 Q27.4968 787.92 29.0564 785.119 Q30.5842 782.286 33.7671 780.44 L28.3562 780.44 L28.3562 774.584 L77.5631 774.584 L77.5631 780.44 L58.657 780.44 Z\" fill=\"#000000\" fill-rule=\"evenodd\" fill-opacity=\"1\" /><path clip-path=\"url(#clip320)\" d=\"M49.9359 763.126 L28.3562 763.126 L28.3562 757.269 L49.7131 757.269 Q54.7739 757.269 57.3202 755.296 Q59.8346 753.322 59.8346 749.376 Q59.8346 744.633 56.8109 741.896 Q53.7872 739.127 48.5673 739.127 L28.3562 739.127 L28.3562 733.27 L64.0042 733.27 L64.0042 739.127 L58.5296 739.127 Q61.7762 741.259 63.3676 744.092 Q64.9272 746.893 64.9272 750.617 Q64.9272 756.76 61.1078 759.943 Q57.2883 763.126 49.9359 763.126 M27.4968 748.389 L27.4968 748.389 Z\" fill=\"#000000\" fill-rule=\"evenodd\" fill-opacity=\"1\" /><path clip-path=\"url(#clip320)\" d=\"M44.7161 690.716 L47.5806 690.716 L47.5806 717.643 Q53.6281 717.261 56.8109 714.014 Q59.9619 710.736 59.9619 704.911 Q59.9619 701.537 59.1344 698.386 Q58.3069 695.204 56.6518 692.084 L62.1899 692.084 Q63.5267 695.235 64.227 698.545 Q64.9272 701.856 64.9272 705.261 Q64.9272 713.791 59.9619 718.788 Q54.9967 723.754 46.5303 723.754 Q37.7774 723.754 32.6531 719.043 Q27.4968 714.301 27.4968 706.28 Q27.4968 699.087 32.1438 694.917 Q36.7589 690.716 44.7161 690.716 M42.9973 696.572 Q38.1912 696.636 35.3266 699.278 Q32.4621 701.887 32.4621 706.216 Q32.4621 711.118 35.2312 714.078 Q38.0002 717.006 43.0292 717.452 L42.9973 696.572 Z\" fill=\"#000000\" fill-rule=\"evenodd\" fill-opacity=\"1\" /><path clip-path=\"url(#clip320)\" d=\"M42.4881 651.471 L64.0042 651.471 L64.0042 657.328 L42.679 657.328 Q37.6183 657.328 35.1038 659.301 Q32.5894 661.274 32.5894 665.221 Q32.5894 669.963 35.6131 672.701 Q38.6368 675.438 43.8567 675.438 L64.0042 675.438 L64.0042 681.326 L28.3562 681.326 L28.3562 675.438 L33.8944 675.438 Q30.6797 673.337 29.0883 670.505 Q27.4968 667.64 27.4968 663.916 Q27.4968 657.773 31.3163 654.622 Q35.1038 651.471 42.4881 651.471 Z\" fill=\"#000000\" fill-rule=\"evenodd\" fill-opacity=\"1\" /><path clip-path=\"url(#clip320)\" d=\"M29.7248 614.136 L35.1993 614.136 Q33.8307 616.619 33.1623 619.133 Q32.4621 621.616 32.4621 624.162 Q32.4621 629.86 36.0905 633.011 Q39.6872 636.162 46.212 636.162 Q52.7369 636.162 56.3653 633.011 Q59.9619 629.86 59.9619 624.162 Q59.9619 621.616 59.2935 619.133 Q58.5933 616.619 57.2247 614.136 L62.6355 614.136 Q63.7814 616.587 64.3543 619.229 Q64.9272 621.839 64.9272 624.799 Q64.9272 632.851 59.8664 637.594 Q54.8057 642.336 46.212 642.336 Q37.491 642.336 32.4939 637.562 Q27.4968 632.756 27.4968 624.417 Q27.4968 621.711 28.0697 619.133 Q28.6108 616.555 29.7248 614.136 Z\" fill=\"#000000\" fill-rule=\"evenodd\" fill-opacity=\"1\" /><path clip-path=\"url(#clip320)\" d=\"M67.3143 589.119 Q73.68 591.602 75.6216 593.957 Q77.5631 596.312 77.5631 600.259 L77.5631 604.938 L72.6615 604.938 L72.6615 601.5 Q72.6615 599.081 71.5157 597.745 Q70.3699 596.408 66.1048 594.784 L63.4312 593.734 L28.3562 608.152 L28.3562 601.946 L56.238 590.806 L28.3562 579.666 L28.3562 573.459 L67.3143 589.119 Z\" fill=\"#000000\" fill-rule=\"evenodd\" fill-opacity=\"1\" /><polyline clip-path=\"url(#clip322)\" style=\"stroke:#000000; stroke-linecap:butt; stroke-linejoin:round; stroke-width:4; stroke-opacity:1; fill:none\" points=\"\n  295.211,1384.24 295.211,1384.24 \n  \"/>\n<polyline clip-path=\"url(#clip322)\" style=\"stroke:#000000; stroke-linecap:butt; stroke-linejoin:round; stroke-width:4; stroke-opacity:1; fill:none\" points=\"\n  378.445,1178.07 378.445,1142.19 \n  \"/>\n<polyline clip-path=\"url(#clip322)\" style=\"stroke:#000000; stroke-linecap:butt; stroke-linejoin:round; stroke-width:4; stroke-opacity:1; fill:none\" points=\"\n  461.679,824.324 461.679,766.147 \n  \"/>\n<polyline clip-path=\"url(#clip322)\" style=\"stroke:#000000; stroke-linecap:butt; stroke-linejoin:round; stroke-width:4; stroke-opacity:1; fill:none\" points=\"\n  544.913,724.744 544.913,661.73 \n  \"/>\n<polyline clip-path=\"url(#clip322)\" style=\"stroke:#000000; stroke-linecap:butt; stroke-linejoin:round; stroke-width:4; stroke-opacity:1; fill:none\" points=\"\n  628.147,685.424 628.147,620.602 \n  \"/>\n<polyline clip-path=\"url(#clip322)\" style=\"stroke:#000000; stroke-linecap:butt; stroke-linejoin:round; stroke-width:4; stroke-opacity:1; fill:none\" points=\"\n  711.381,620.773 711.381,553.086 \n  \"/>\n<polyline clip-path=\"url(#clip322)\" style=\"stroke:#000000; stroke-linecap:butt; stroke-linejoin:round; stroke-width:4; stroke-opacity:1; fill:none\" points=\"\n  794.615,496.938 794.615,424.081 \n  \"/>\n<polyline clip-path=\"url(#clip322)\" style=\"stroke:#000000; stroke-linecap:butt; stroke-linejoin:round; stroke-width:4; stroke-opacity:1; fill:none\" points=\"\n  877.849,447.635 877.849,372.822 \n  \"/>\n<polyline clip-path=\"url(#clip322)\" style=\"stroke:#000000; stroke-linecap:butt; stroke-linejoin:round; stroke-width:4; stroke-opacity:1; fill:none\" points=\"\n  961.083,406.766 961.083,330.369 \n  \"/>\n<polyline clip-path=\"url(#clip322)\" style=\"stroke:#000000; stroke-linecap:butt; stroke-linejoin:round; stroke-width:4; stroke-opacity:1; fill:none\" points=\"\n  1044.32,402.537 1044.32,325.978 \n  \"/>\n<polyline clip-path=\"url(#clip322)\" style=\"stroke:#000000; stroke-linecap:butt; stroke-linejoin:round; stroke-width:4; stroke-opacity:1; fill:none\" points=\"\n  1127.55,356.009 1127.55,277.691 \n  \"/>\n<polyline clip-path=\"url(#clip322)\" style=\"stroke:#000000; stroke-linecap:butt; stroke-linejoin:round; stroke-width:4; stroke-opacity:1; fill:none\" points=\"\n  1210.79,288.297 1210.79,207.49 \n  \"/>\n<polyline clip-path=\"url(#clip322)\" style=\"stroke:#000000; stroke-linecap:butt; stroke-linejoin:round; stroke-width:4; stroke-opacity:1; fill:none\" points=\"\n  1294.02,243.136 1294.02,160.71 \n  \"/>\n<polyline clip-path=\"url(#clip322)\" style=\"stroke:#000000; stroke-linecap:butt; stroke-linejoin:round; stroke-width:4; stroke-opacity:1; fill:none\" points=\"\n  1377.25,171.127 1377.25,86.1857 \n  \"/>\n<polyline clip-path=\"url(#clip322)\" style=\"stroke:#000000; stroke-linecap:butt; stroke-linejoin:round; stroke-width:4; stroke-opacity:1; fill:none\" points=\"\n  1460.49,275.597 1460.49,194.331 \n  \"/>\n<polyline clip-path=\"url(#clip322)\" style=\"stroke:#000000; stroke-linecap:butt; stroke-linejoin:round; stroke-width:4; stroke-opacity:1; fill:none\" points=\"\n  1543.72,391.259 1543.72,314.271 \n  \"/>\n<polyline clip-path=\"url(#clip322)\" style=\"stroke:#000000; stroke-linecap:butt; stroke-linejoin:round; stroke-width:4; stroke-opacity:1; fill:none\" points=\"\n  1626.96,419.451 1626.96,343.542 \n  \"/>\n<polyline clip-path=\"url(#clip322)\" style=\"stroke:#000000; stroke-linecap:butt; stroke-linejoin:round; stroke-width:4; stroke-opacity:1; fill:none\" points=\"\n  1710.19,458.907 1710.19,384.536 \n  \"/>\n<polyline clip-path=\"url(#clip322)\" style=\"stroke:#000000; stroke-linecap:butt; stroke-linejoin:round; stroke-width:4; stroke-opacity:1; fill:none\" points=\"\n  1793.42,561.694 1793.42,491.491 \n  \"/>\n<polyline clip-path=\"url(#clip322)\" style=\"stroke:#000000; stroke-linecap:butt; stroke-linejoin:round; stroke-width:4; stroke-opacity:1; fill:none\" points=\"\n  1876.66,613.742 1876.66,545.75 \n  \"/>\n<polyline clip-path=\"url(#clip322)\" style=\"stroke:#000000; stroke-linecap:butt; stroke-linejoin:round; stroke-width:4; stroke-opacity:1; fill:none\" points=\"\n  1959.89,658.728 1959.89,592.707 \n  \"/>\n<polyline clip-path=\"url(#clip322)\" style=\"stroke:#000000; stroke-linecap:butt; stroke-linejoin:round; stroke-width:4; stroke-opacity:1; fill:none\" points=\"\n  2043.13,726.148 2043.13,663.2 \n  \"/>\n<polyline clip-path=\"url(#clip322)\" style=\"stroke:#000000; stroke-linecap:butt; stroke-linejoin:round; stroke-width:4; stroke-opacity:1; fill:none\" points=\"\n  2126.36,829.928 2126.36,772.035 \n  \"/>\n<polyline clip-path=\"url(#clip322)\" style=\"stroke:#000000; stroke-linecap:butt; stroke-linejoin:round; stroke-width:4; stroke-opacity:1; fill:none\" points=\"\n  2209.59,1153.22 2209.59,1115.32 \n  \"/>\n<polyline clip-path=\"url(#clip322)\" style=\"stroke:#000000; stroke-linecap:butt; stroke-linejoin:round; stroke-width:4; stroke-opacity:1; fill:none\" points=\"\n  2292.83,1384.24 2292.83,1384.24 \n  \"/>\n<line clip-path=\"url(#clip322)\" x1=\"307.211\" y1=\"1384.24\" x2=\"283.211\" y2=\"1384.24\" style=\"stroke:#000000; stroke-width:3.2; stroke-opacity:1\"/>\n<line clip-path=\"url(#clip322)\" x1=\"307.211\" y1=\"1384.24\" x2=\"283.211\" y2=\"1384.24\" style=\"stroke:#000000; stroke-width:3.2; stroke-opacity:1\"/>\n<line clip-path=\"url(#clip322)\" x1=\"390.445\" y1=\"1178.07\" x2=\"366.445\" y2=\"1178.07\" style=\"stroke:#000000; stroke-width:3.2; stroke-opacity:1\"/>\n<line clip-path=\"url(#clip322)\" x1=\"390.445\" y1=\"1142.19\" x2=\"366.445\" y2=\"1142.19\" style=\"stroke:#000000; stroke-width:3.2; stroke-opacity:1\"/>\n<line clip-path=\"url(#clip322)\" x1=\"473.679\" y1=\"824.324\" x2=\"449.679\" y2=\"824.324\" style=\"stroke:#000000; stroke-width:3.2; stroke-opacity:1\"/>\n<line clip-path=\"url(#clip322)\" x1=\"473.679\" y1=\"766.147\" x2=\"449.679\" y2=\"766.147\" style=\"stroke:#000000; stroke-width:3.2; stroke-opacity:1\"/>\n<line clip-path=\"url(#clip322)\" x1=\"556.913\" y1=\"724.744\" x2=\"532.913\" y2=\"724.744\" style=\"stroke:#000000; stroke-width:3.2; stroke-opacity:1\"/>\n<line clip-path=\"url(#clip322)\" x1=\"556.913\" y1=\"661.73\" x2=\"532.913\" y2=\"661.73\" style=\"stroke:#000000; stroke-width:3.2; stroke-opacity:1\"/>\n<line clip-path=\"url(#clip322)\" x1=\"640.147\" y1=\"685.424\" x2=\"616.147\" y2=\"685.424\" style=\"stroke:#000000; stroke-width:3.2; stroke-opacity:1\"/>\n<line clip-path=\"url(#clip322)\" x1=\"640.147\" y1=\"620.602\" x2=\"616.147\" y2=\"620.602\" style=\"stroke:#000000; stroke-width:3.2; stroke-opacity:1\"/>\n<line clip-path=\"url(#clip322)\" x1=\"723.381\" y1=\"620.773\" x2=\"699.381\" y2=\"620.773\" style=\"stroke:#000000; stroke-width:3.2; stroke-opacity:1\"/>\n<line clip-path=\"url(#clip322)\" x1=\"723.381\" y1=\"553.086\" x2=\"699.381\" y2=\"553.086\" style=\"stroke:#000000; stroke-width:3.2; stroke-opacity:1\"/>\n<line clip-path=\"url(#clip322)\" x1=\"806.615\" y1=\"496.938\" x2=\"782.615\" y2=\"496.938\" style=\"stroke:#000000; stroke-width:3.2; stroke-opacity:1\"/>\n<line clip-path=\"url(#clip322)\" x1=\"806.615\" y1=\"424.081\" x2=\"782.615\" y2=\"424.081\" style=\"stroke:#000000; stroke-width:3.2; stroke-opacity:1\"/>\n<line clip-path=\"url(#clip322)\" x1=\"889.849\" y1=\"447.635\" x2=\"865.849\" y2=\"447.635\" style=\"stroke:#000000; stroke-width:3.2; stroke-opacity:1\"/>\n<line clip-path=\"url(#clip322)\" x1=\"889.849\" y1=\"372.822\" x2=\"865.849\" y2=\"372.822\" style=\"stroke:#000000; stroke-width:3.2; stroke-opacity:1\"/>\n<line clip-path=\"url(#clip322)\" x1=\"973.083\" y1=\"406.766\" x2=\"949.083\" y2=\"406.766\" style=\"stroke:#000000; stroke-width:3.2; stroke-opacity:1\"/>\n<line clip-path=\"url(#clip322)\" x1=\"973.083\" y1=\"330.369\" x2=\"949.083\" y2=\"330.369\" style=\"stroke:#000000; stroke-width:3.2; stroke-opacity:1\"/>\n<line clip-path=\"url(#clip322)\" x1=\"1056.32\" y1=\"402.537\" x2=\"1032.32\" y2=\"402.537\" style=\"stroke:#000000; stroke-width:3.2; stroke-opacity:1\"/>\n<line clip-path=\"url(#clip322)\" x1=\"1056.32\" y1=\"325.978\" x2=\"1032.32\" y2=\"325.978\" style=\"stroke:#000000; stroke-width:3.2; stroke-opacity:1\"/>\n<line clip-path=\"url(#clip322)\" x1=\"1139.55\" y1=\"356.009\" x2=\"1115.55\" y2=\"356.009\" style=\"stroke:#000000; stroke-width:3.2; stroke-opacity:1\"/>\n<line clip-path=\"url(#clip322)\" x1=\"1139.55\" y1=\"277.691\" x2=\"1115.55\" y2=\"277.691\" style=\"stroke:#000000; stroke-width:3.2; stroke-opacity:1\"/>\n<line clip-path=\"url(#clip322)\" x1=\"1222.79\" y1=\"288.297\" x2=\"1198.79\" y2=\"288.297\" style=\"stroke:#000000; stroke-width:3.2; stroke-opacity:1\"/>\n<line clip-path=\"url(#clip322)\" x1=\"1222.79\" y1=\"207.49\" x2=\"1198.79\" y2=\"207.49\" style=\"stroke:#000000; stroke-width:3.2; stroke-opacity:1\"/>\n<line clip-path=\"url(#clip322)\" x1=\"1306.02\" y1=\"243.136\" x2=\"1282.02\" y2=\"243.136\" style=\"stroke:#000000; stroke-width:3.2; stroke-opacity:1\"/>\n<line clip-path=\"url(#clip322)\" x1=\"1306.02\" y1=\"160.71\" x2=\"1282.02\" y2=\"160.71\" style=\"stroke:#000000; stroke-width:3.2; stroke-opacity:1\"/>\n<line clip-path=\"url(#clip322)\" x1=\"1389.25\" y1=\"171.127\" x2=\"1365.25\" y2=\"171.127\" style=\"stroke:#000000; stroke-width:3.2; stroke-opacity:1\"/>\n<line clip-path=\"url(#clip322)\" x1=\"1389.25\" y1=\"86.1857\" x2=\"1365.25\" y2=\"86.1857\" style=\"stroke:#000000; stroke-width:3.2; stroke-opacity:1\"/>\n<line clip-path=\"url(#clip322)\" x1=\"1472.49\" y1=\"275.597\" x2=\"1448.49\" y2=\"275.597\" style=\"stroke:#000000; stroke-width:3.2; stroke-opacity:1\"/>\n<line clip-path=\"url(#clip322)\" x1=\"1472.49\" y1=\"194.331\" x2=\"1448.49\" y2=\"194.331\" style=\"stroke:#000000; stroke-width:3.2; stroke-opacity:1\"/>\n<line clip-path=\"url(#clip322)\" x1=\"1555.72\" y1=\"391.259\" x2=\"1531.72\" y2=\"391.259\" style=\"stroke:#000000; stroke-width:3.2; stroke-opacity:1\"/>\n<line clip-path=\"url(#clip322)\" x1=\"1555.72\" y1=\"314.271\" x2=\"1531.72\" y2=\"314.271\" style=\"stroke:#000000; stroke-width:3.2; stroke-opacity:1\"/>\n<line clip-path=\"url(#clip322)\" x1=\"1638.96\" y1=\"419.451\" x2=\"1614.96\" y2=\"419.451\" style=\"stroke:#000000; stroke-width:3.2; stroke-opacity:1\"/>\n<line clip-path=\"url(#clip322)\" x1=\"1638.96\" y1=\"343.542\" x2=\"1614.96\" y2=\"343.542\" style=\"stroke:#000000; stroke-width:3.2; stroke-opacity:1\"/>\n<line clip-path=\"url(#clip322)\" x1=\"1722.19\" y1=\"458.907\" x2=\"1698.19\" y2=\"458.907\" style=\"stroke:#000000; stroke-width:3.2; stroke-opacity:1\"/>\n<line clip-path=\"url(#clip322)\" x1=\"1722.19\" y1=\"384.536\" x2=\"1698.19\" y2=\"384.536\" style=\"stroke:#000000; stroke-width:3.2; stroke-opacity:1\"/>\n<line clip-path=\"url(#clip322)\" x1=\"1805.42\" y1=\"561.694\" x2=\"1781.42\" y2=\"561.694\" style=\"stroke:#000000; stroke-width:3.2; stroke-opacity:1\"/>\n<line clip-path=\"url(#clip322)\" x1=\"1805.42\" y1=\"491.491\" x2=\"1781.42\" y2=\"491.491\" style=\"stroke:#000000; stroke-width:3.2; stroke-opacity:1\"/>\n<line clip-path=\"url(#clip322)\" x1=\"1888.66\" y1=\"613.742\" x2=\"1864.66\" y2=\"613.742\" style=\"stroke:#000000; stroke-width:3.2; stroke-opacity:1\"/>\n<line clip-path=\"url(#clip322)\" x1=\"1888.66\" y1=\"545.75\" x2=\"1864.66\" y2=\"545.75\" style=\"stroke:#000000; stroke-width:3.2; stroke-opacity:1\"/>\n<line clip-path=\"url(#clip322)\" x1=\"1971.89\" y1=\"658.728\" x2=\"1947.89\" y2=\"658.728\" style=\"stroke:#000000; stroke-width:3.2; stroke-opacity:1\"/>\n<line clip-path=\"url(#clip322)\" x1=\"1971.89\" y1=\"592.707\" x2=\"1947.89\" y2=\"592.707\" style=\"stroke:#000000; stroke-width:3.2; stroke-opacity:1\"/>\n<line clip-path=\"url(#clip322)\" x1=\"2055.13\" y1=\"726.148\" x2=\"2031.13\" y2=\"726.148\" style=\"stroke:#000000; stroke-width:3.2; stroke-opacity:1\"/>\n<line clip-path=\"url(#clip322)\" x1=\"2055.13\" y1=\"663.2\" x2=\"2031.13\" y2=\"663.2\" style=\"stroke:#000000; stroke-width:3.2; stroke-opacity:1\"/>\n<line clip-path=\"url(#clip322)\" x1=\"2138.36\" y1=\"829.928\" x2=\"2114.36\" y2=\"829.928\" style=\"stroke:#000000; stroke-width:3.2; stroke-opacity:1\"/>\n<line clip-path=\"url(#clip322)\" x1=\"2138.36\" y1=\"772.035\" x2=\"2114.36\" y2=\"772.035\" style=\"stroke:#000000; stroke-width:3.2; stroke-opacity:1\"/>\n<line clip-path=\"url(#clip322)\" x1=\"2221.59\" y1=\"1153.22\" x2=\"2197.59\" y2=\"1153.22\" style=\"stroke:#000000; stroke-width:3.2; stroke-opacity:1\"/>\n<line clip-path=\"url(#clip322)\" x1=\"2221.59\" y1=\"1115.32\" x2=\"2197.59\" y2=\"1115.32\" style=\"stroke:#000000; stroke-width:3.2; stroke-opacity:1\"/>\n<line clip-path=\"url(#clip322)\" x1=\"2304.83\" y1=\"1384.24\" x2=\"2280.83\" y2=\"1384.24\" style=\"stroke:#000000; stroke-width:3.2; stroke-opacity:1\"/>\n<line clip-path=\"url(#clip322)\" x1=\"2304.83\" y1=\"1384.24\" x2=\"2280.83\" y2=\"1384.24\" style=\"stroke:#000000; stroke-width:3.2; stroke-opacity:1\"/>\n<circle clip-path=\"url(#clip322)\" cx=\"295.211\" cy=\"1384.24\" r=\"10\" fill=\"#009af9\" fill-rule=\"evenodd\" fill-opacity=\"1\" stroke=\"#000000\" stroke-opacity=\"1\" stroke-width=\"3.2\"/>\n<circle clip-path=\"url(#clip322)\" cx=\"378.445\" cy=\"1160.13\" r=\"10\" fill=\"#009af9\" fill-rule=\"evenodd\" fill-opacity=\"1\" stroke=\"#000000\" stroke-opacity=\"1\" stroke-width=\"3.2\"/>\n<circle clip-path=\"url(#clip322)\" cx=\"461.679\" cy=\"795.235\" r=\"10\" fill=\"#009af9\" fill-rule=\"evenodd\" fill-opacity=\"1\" stroke=\"#000000\" stroke-opacity=\"1\" stroke-width=\"3.2\"/>\n<circle clip-path=\"url(#clip322)\" cx=\"544.913\" cy=\"693.237\" r=\"10\" fill=\"#009af9\" fill-rule=\"evenodd\" fill-opacity=\"1\" stroke=\"#000000\" stroke-opacity=\"1\" stroke-width=\"3.2\"/>\n<circle clip-path=\"url(#clip322)\" cx=\"628.147\" cy=\"653.013\" r=\"10\" fill=\"#009af9\" fill-rule=\"evenodd\" fill-opacity=\"1\" stroke=\"#000000\" stroke-opacity=\"1\" stroke-width=\"3.2\"/>\n<circle clip-path=\"url(#clip322)\" cx=\"711.381\" cy=\"586.929\" r=\"10\" fill=\"#009af9\" fill-rule=\"evenodd\" fill-opacity=\"1\" stroke=\"#000000\" stroke-opacity=\"1\" stroke-width=\"3.2\"/>\n<circle clip-path=\"url(#clip322)\" cx=\"794.615\" cy=\"460.509\" r=\"10\" fill=\"#009af9\" fill-rule=\"evenodd\" fill-opacity=\"1\" stroke=\"#000000\" stroke-opacity=\"1\" stroke-width=\"3.2\"/>\n<circle clip-path=\"url(#clip322)\" cx=\"877.849\" cy=\"410.229\" r=\"10\" fill=\"#009af9\" fill-rule=\"evenodd\" fill-opacity=\"1\" stroke=\"#000000\" stroke-opacity=\"1\" stroke-width=\"3.2\"/>\n<circle clip-path=\"url(#clip322)\" cx=\"961.083\" cy=\"368.567\" r=\"10\" fill=\"#009af9\" fill-rule=\"evenodd\" fill-opacity=\"1\" stroke=\"#000000\" stroke-opacity=\"1\" stroke-width=\"3.2\"/>\n<circle clip-path=\"url(#clip322)\" cx=\"1044.32\" cy=\"364.258\" r=\"10\" fill=\"#009af9\" fill-rule=\"evenodd\" fill-opacity=\"1\" stroke=\"#000000\" stroke-opacity=\"1\" stroke-width=\"3.2\"/>\n<circle clip-path=\"url(#clip322)\" cx=\"1127.55\" cy=\"316.85\" r=\"10\" fill=\"#009af9\" fill-rule=\"evenodd\" fill-opacity=\"1\" stroke=\"#000000\" stroke-opacity=\"1\" stroke-width=\"3.2\"/>\n<circle clip-path=\"url(#clip322)\" cx=\"1210.79\" cy=\"247.894\" r=\"10\" fill=\"#009af9\" fill-rule=\"evenodd\" fill-opacity=\"1\" stroke=\"#000000\" stroke-opacity=\"1\" stroke-width=\"3.2\"/>\n<circle clip-path=\"url(#clip322)\" cx=\"1294.02\" cy=\"201.923\" r=\"10\" fill=\"#009af9\" fill-rule=\"evenodd\" fill-opacity=\"1\" stroke=\"#000000\" stroke-opacity=\"1\" stroke-width=\"3.2\"/>\n<circle clip-path=\"url(#clip322)\" cx=\"1377.25\" cy=\"128.656\" r=\"10\" fill=\"#009af9\" fill-rule=\"evenodd\" fill-opacity=\"1\" stroke=\"#000000\" stroke-opacity=\"1\" stroke-width=\"3.2\"/>\n<circle clip-path=\"url(#clip322)\" cx=\"1460.49\" cy=\"234.964\" r=\"10\" fill=\"#009af9\" fill-rule=\"evenodd\" fill-opacity=\"1\" stroke=\"#000000\" stroke-opacity=\"1\" stroke-width=\"3.2\"/>\n<circle clip-path=\"url(#clip322)\" cx=\"1543.72\" cy=\"352.765\" r=\"10\" fill=\"#009af9\" fill-rule=\"evenodd\" fill-opacity=\"1\" stroke=\"#000000\" stroke-opacity=\"1\" stroke-width=\"3.2\"/>\n<circle clip-path=\"url(#clip322)\" cx=\"1626.96\" cy=\"381.497\" r=\"10\" fill=\"#009af9\" fill-rule=\"evenodd\" fill-opacity=\"1\" stroke=\"#000000\" stroke-opacity=\"1\" stroke-width=\"3.2\"/>\n<circle clip-path=\"url(#clip322)\" cx=\"1710.19\" cy=\"421.721\" r=\"10\" fill=\"#009af9\" fill-rule=\"evenodd\" fill-opacity=\"1\" stroke=\"#000000\" stroke-opacity=\"1\" stroke-width=\"3.2\"/>\n<circle clip-path=\"url(#clip322)\" cx=\"1793.42\" cy=\"526.593\" r=\"10\" fill=\"#009af9\" fill-rule=\"evenodd\" fill-opacity=\"1\" stroke=\"#000000\" stroke-opacity=\"1\" stroke-width=\"3.2\"/>\n<circle clip-path=\"url(#clip322)\" cx=\"1876.66\" cy=\"579.746\" r=\"10\" fill=\"#009af9\" fill-rule=\"evenodd\" fill-opacity=\"1\" stroke=\"#000000\" stroke-opacity=\"1\" stroke-width=\"3.2\"/>\n<circle clip-path=\"url(#clip322)\" cx=\"1959.89\" cy=\"625.717\" r=\"10\" fill=\"#009af9\" fill-rule=\"evenodd\" fill-opacity=\"1\" stroke=\"#000000\" stroke-opacity=\"1\" stroke-width=\"3.2\"/>\n<circle clip-path=\"url(#clip322)\" cx=\"2043.13\" cy=\"694.674\" r=\"10\" fill=\"#009af9\" fill-rule=\"evenodd\" fill-opacity=\"1\" stroke=\"#000000\" stroke-opacity=\"1\" stroke-width=\"3.2\"/>\n<circle clip-path=\"url(#clip322)\" cx=\"2126.36\" cy=\"800.982\" r=\"10\" fill=\"#009af9\" fill-rule=\"evenodd\" fill-opacity=\"1\" stroke=\"#000000\" stroke-opacity=\"1\" stroke-width=\"3.2\"/>\n<circle clip-path=\"url(#clip322)\" cx=\"2209.59\" cy=\"1134.27\" r=\"10\" fill=\"#009af9\" fill-rule=\"evenodd\" fill-opacity=\"1\" stroke=\"#000000\" stroke-opacity=\"1\" stroke-width=\"3.2\"/>\n<circle clip-path=\"url(#clip322)\" cx=\"2292.83\" cy=\"1384.24\" r=\"10\" fill=\"#009af9\" fill-rule=\"evenodd\" fill-opacity=\"1\" stroke=\"#000000\" stroke-opacity=\"1\" stroke-width=\"3.2\"/>\n</svg>\n"
          },
          "metadata": {}
        }
      ],
      "execution_count": 11,
      "metadata": {
        "execution": {
          "iopub.status.busy": "2021-10-21T11:47:21.531Z",
          "iopub.execute_input": "2021-10-21T11:47:21.546Z",
          "iopub.status.idle": "2021-10-21T11:47:53.430Z"
        }
      }
    },
    {
      "cell_type": "code",
      "source": [
        "png(p, joinpath(plot_path, \"event_distribution\"))"
      ],
      "outputs": [],
      "execution_count": 12,
      "metadata": {
        "collapsed": true,
        "jupyter": {
          "source_hidden": false,
          "outputs_hidden": false
        },
        "nteract": {
          "transient": {
            "deleting": false
          }
        },
        "execution": {
          "iopub.status.busy": "2021-10-21T11:47:53.463Z",
          "iopub.execute_input": "2021-10-21T11:47:53.482Z",
          "iopub.status.idle": "2021-10-21T11:47:53.509Z"
        }
      }
    },
    {
      "cell_type": "code",
      "source": [
        "revents = sum(h.weights)\n",
        "println(\"events recorded in z bins =\", h.weights)\n",
        "println(\"sensitivity per bin =\", h.weights/norm)\n",
        "println(\"sensitivity  (%) =\", 100 * revents/norm)\n"
      ],
      "outputs": [
        {
          "output_type": "stream",
          "name": "stdout",
          "text": [
            "events recorded in z bins =[0, 156, 410, 481, 509, 555, 643, 678, 707, 710, 743, 791, 823, 874, 800, 718, 698, 670, 597, 560, 528, 480, 406, 174, 0]\n",
            "sensitivity per bin =[0.0, 0.000104, 0.00027333333333333333, 0.0003206666666666667, 0.00033933333333333336, 0.00037, 0.00042866666666666666, 0.000452, 0.0004713333333333333, 0.0004733333333333333, 0.0004953333333333333, 0.0005273333333333333, 0.0005486666666666667, 0.0005826666666666667, 0.0005333333333333334, 0.0004786666666666667, 0.00046533333333333333, 0.00044666666666666666, 0.000398, 0.0003733333333333333, 0.000352, 0.00032, 0.00027066666666666667, 0.000116, 0.0]\n",
            "sensitivity  (%) =0.9140666666666667\n"
          ]
        }
      ],
      "execution_count": 13,
      "metadata": {
        "execution": {
          "iopub.status.busy": "2021-10-21T11:47:53.540Z",
          "iopub.execute_input": "2021-10-21T11:47:53.559Z",
          "iopub.status.idle": "2021-10-21T11:47:54.338Z"
        }
      }
    },
    {
      "cell_type": "code",
      "source": [
        "hs =  h.weights / norm;\n",
        "he = 0.001* sqrt.(hs);"
      ],
      "outputs": [],
      "execution_count": 14,
      "metadata": {
        "execution": {
          "iopub.status.busy": "2021-10-21T11:47:54.360Z",
          "iopub.execute_input": "2021-10-21T11:47:54.376Z",
          "iopub.status.idle": "2021-10-21T11:47:54.463Z"
        }
      }
    },
    {
      "cell_type": "code",
      "source": [
        "p1 = scatter(centers(h),hs, yerror=he,\n",
        "\t          shape = :circle, markersize=6, color = :black, legend=false, fmt = :png)"
      ],
      "outputs": [
        {
          "output_type": "execute_result",
          "execution_count": 15,
          "data": {
            "image/png": "[encoded data removed]"
          },
          "metadata": {}
        }
      ],
      "execution_count": 15,
      "metadata": {
        "execution": {
          "iopub.status.busy": "2021-10-21T11:47:54.500Z",
          "iopub.execute_input": "2021-10-21T11:47:54.520Z",
          "iopub.status.idle": "2021-10-21T11:47:55.273Z"
        }
      }
    },
    {
      "cell_type": "code",
      "source": [
        "png(p1, joinpath(plot_path, \"proportion_distribution\"))"
      ],
      "outputs": [],
      "execution_count": 16,
      "metadata": {
        "collapsed": true,
        "jupyter": {
          "source_hidden": false,
          "outputs_hidden": false
        },
        "nteract": {
          "transient": {
            "deleting": false
          }
        },
        "execution": {
          "iopub.status.busy": "2021-10-21T11:47:55.293Z",
          "iopub.execute_input": "2021-10-21T11:47:55.309Z",
          "iopub.status.idle": "2021-10-21T11:47:55.368Z"
        }
      }
    },
    {
      "cell_type": "markdown",
      "source": [
        "## normalize to counts per MBq"
      ],
      "metadata": {}
    },
    {
      "cell_type": "code",
      "source": [
        "N = 1e+6 # 1 MBq\n",
        "hA = hs * N\n",
        "he = sqrt.(hA);"
      ],
      "outputs": [],
      "execution_count": 17,
      "metadata": {
        "execution": {
          "iopub.status.busy": "2021-10-21T11:47:55.388Z",
          "iopub.execute_input": "2021-10-21T11:47:55.404Z",
          "iopub.status.idle": "2021-10-21T11:47:55.429Z"
        }
      }
    },
    {
      "cell_type": "code",
      "source": [
        "println(\"Counts per 1M decays = \", sum(hA))\n",
        "p2 = scatter(centers(h),hA, yerror=he,\n",
        "\t          shape = :circle, markersize=6, color = :black, legend=false, fmt = :png)\n",
        "xlabel!(\"z slices (mm)\")\n",
        "ylabel!(\"Bq\")"
      ],
      "outputs": [
        {
          "output_type": "stream",
          "name": "stdout",
          "text": [
            "Counts per 1M decays = 9140.666666666666\n"
          ]
        },
        {
          "output_type": "execute_result",
          "execution_count": 18,
          "data": {
            "image/png": "[encoded data removed]"
          },
          "metadata": {}
        }
      ],
      "execution_count": 18,
      "metadata": {
        "execution": {
          "iopub.status.busy": "2021-10-21T11:47:55.450Z",
          "iopub.execute_input": "2021-10-21T11:47:55.486Z",
          "iopub.status.idle": "2021-10-21T11:47:55.956Z"
        }
      }
    },
    {
      "cell_type": "code",
      "source": [
        "png(p2, joinpath(plot_path, \"MBq_distribution\"))"
      ],
      "outputs": [],
      "execution_count": 19,
      "metadata": {
        "collapsed": true,
        "jupyter": {
          "source_hidden": false,
          "outputs_hidden": false
        },
        "nteract": {
          "transient": {
            "deleting": false
          }
        },
        "execution": {
          "iopub.status.busy": "2021-10-21T11:47:55.980Z",
          "iopub.execute_input": "2021-10-21T11:47:55.996Z",
          "iopub.status.idle": "2021-10-21T11:47:56.047Z"
        }
      }
    },
    {
      "cell_type": "code",
      "source": [
        "## Save some info about the run to file\n",
        "h5open(\"nema5_rates.h5\", \"cw\") do h5out\n",
        "  grp = create_group(h5out, config)\n",
        "  attributes(grp)[\"PerGeneratedEvent\"]   = revents / norm\n",
        "  attributes(grp)[\"PerMBqActivity_cnts\"] = sum(hA)\n",
        "end"
      ],
      "outputs": [
        {
          "output_type": "execute_result",
          "execution_count": 20,
          "data": {
            "text/plain": "9140.666666666666"
          },
          "metadata": {}
        }
      ],
      "execution_count": 20,
      "metadata": {
        "collapsed": true,
        "jupyter": {
          "source_hidden": false,
          "outputs_hidden": false
        },
        "nteract": {
          "transient": {
            "deleting": false
          }
        },
        "execution": {
          "iopub.status.busy": "2021-10-21T11:47:56.116Z",
          "iopub.execute_input": "2021-10-21T11:47:56.184Z",
          "iopub.status.idle": "2021-10-21T11:47:57.605Z"
        }
      }
    },
    {
      "cell_type": "code",
      "source": [],
      "outputs": [],
      "execution_count": null,
      "metadata": {
        "collapsed": true,
        "jupyter": {
          "source_hidden": false,
          "outputs_hidden": false
        },
        "nteract": {
          "transient": {
            "deleting": false
          }
        }
      }
    }
  ],
  "metadata": {
    "kernel_info": {
      "name": "julia-1.6"
    },
    "language_info": {
      "file_extension": ".jl",
      "name": "julia",
      "mimetype": "application/julia",
      "version": "1.6.2"
    },
    "kernelspec": {
      "argv": [
        "/Applications/Julia-1.6.app/Contents/Resources/julia/bin/julia",
        "-i",
        "--color=yes",
        "--project=@.",
        "/Users/laingandrew/.julia/packages/IJulia/e8kqU/src/kernel.jl",
        "{connection_file}"
      ],
      "display_name": "Julia 1.6.1",
      "env": {},
      "interrupt_mode": "signal",
      "language": "julia",
      "name": "julia-1.6"
    },
    "nteract": {
      "version": "0.28.0"
    }
  },
  "nbformat": 4,
  "nbformat_minor": 2
}